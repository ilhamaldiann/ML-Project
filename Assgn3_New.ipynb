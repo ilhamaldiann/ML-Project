{
 "cells": [
  {
   "cell_type": "markdown",
   "id": "108e56be",
   "metadata": {},
   "source": [
    "Nama: Fransisca Mulya Sari\n",
    "\n",
    "Kelas : PYTN KS 014\n",
    "\n",
    "Kode Peserta : PYTN - KS014 - 011"
   ]
  },
  {
   "cell_type": "markdown",
   "id": "6b57f77e",
   "metadata": {},
   "source": [
    "# ASSIGNMENT PYTHON 3\n",
    "-------------------------------------------------\n",
    "\n",
    "- Pada assignment 3 ini, projects rubricnya adalah sebagai berikut.\n",
    "\n",
    "**Code Review**\n",
    "\n",
    "|Criteria|Meet Expectations|\n",
    "|:--------|:------------------|\n",
    "|Logistic Regression|Mengimplementasikan Logistic Regression Dengan Scikit-Learn|\n",
    "|K-Nearest Neighbors|Mengimplementasikan K-Nearest Neighbors Dengan Scikit-Learn|\n",
    "|Support Vector Machine|Mengimplementasikan Support Vector Machine Dengan Scikit-Learn|\n",
    "|Decision Tree|Mengimplementasikan Decision Tree Dengan Scikit-Learn|\n",
    "|Random Forest|Mengimplementasikan Random Forest Dengan Scikit-Learn|\n",
    "|Naive Bayes|Mengimplementasikan Naive Bayes Dengan Scikit-Learn|\n",
    "|Confusion Matrix|Mengimpelentasikan Confusion Matrix Regression Dengan Scikit-Learn|\n",
    "|Visualization|Menganalisa Data Menggunakan Setidaknya 2 Tipe Grafik/Plot.|\n",
    "|PreProcessing|Melakukan Preproses Dataset Sebelum Melakukan Penelitian Lebih Dalam.|\n",
    "|Apakah Kode Berjalan Tanpa Ada Eror?|Seluruh Kode Berfungsi Dan Dibuat Dengan Benar|\n",
    "\n",
    "\n",
    "**Readibility**\n",
    "\n",
    "|Criteria|Meet Expectations|\n",
    "|:--------|:------------------|\n",
    "|Tertata dengan baik|Semua Cell Di Notebook Terdokumentasi Dengan Baik Dengan Markdown Pada Tiap Cell Untuk Penjelasan Kode.|\n",
    "\n",
    "\n",
    "**Analysis**\n",
    "\n",
    "|Criteria|Meet Expectations|\n",
    "|:--------|:------------------|\n",
    "|OAlgorithm Analysis|Student Menjelaskan Alasan Mengapa Memilih Menggunakan Algoritma Tersebut Untuk Membuat Model.|\n",
    "\n",
    "- Sumber data: https://archive.ics.uci.edu/ml/datasets/Bank+Marketing"
   ]
  },
  {
   "cell_type": "markdown",
   "id": "1d82169a",
   "metadata": {},
   "source": [
    "# A. Import Library"
   ]
  },
  {
   "cell_type": "code",
   "execution_count": 1,
   "id": "866d4ac5",
   "metadata": {},
   "outputs": [],
   "source": [
    "# digunakan untuk dataframe\n",
    "import pandas as pd\n",
    "import numpy as np\n",
    "\n",
    "# digunakan untuk visualisasi data\n",
    "import matplotlib.pyplot as plt\n",
    "import seaborn as sns\n",
    "from sklearn.metrics import classification_report, confusion_matrix\n",
    "\n",
    "# digunakan untuk explorisasi data\n",
    "from sklearn.preprocessing import LabelEncoder, StandardScaler\n",
    "\n",
    "# digunakan untuk modeling\n",
    "from sklearn import preprocessing\n",
    "from sklearn.model_selection import train_test_split\n",
    "from sklearn.linear_model import LogisticRegression\n",
    "from sklearn.neighbors import KNeighborsClassifier\n",
    "from sklearn.tree import DecisionTreeClassifier\n",
    "from sklearn.naive_bayes import GaussianNB\n",
    "from sklearn.ensemble import RandomForestClassifier\n",
    "from sklearn import tree\n",
    "import sklearn.tree as DecisionTreeClassifier\n",
    "from sklearn.metrics import accuracy_score\n",
    "from sklearn import svm\n",
    "from sklearn.svm import SVC\n",
    "from six import StringIO\n",
    "from IPython.display import Image\n",
    "import pydotplus\n",
    "\n",
    "import warnings\n",
    "warnings.filterwarnings('ignore')"
   ]
  },
  {
   "cell_type": "code",
   "execution_count": 2,
   "id": "6fa0e3be",
   "metadata": {},
   "outputs": [
    {
     "name": "stderr",
     "output_type": "stream",
     "text": [
      "'conda' is not recognized as an internal or external command,\n",
      "operable program or batch file.\n",
      "\n",
      "Usage:   \n",
      "  pip install [options] <requirement specifier> [package-index-options] ...\n",
      "  pip install [options] -r <requirements file> [package-index-options] ...\n",
      "  pip install [options] [-e] <vcs project url> ...\n",
      "  pip install [options] [-e] <local project path> ...\n",
      "  pip install [options] <archive url/path> ...\n",
      "\n",
      "no such option: -y\n"
     ]
    },
    {
     "name": "stdout",
     "output_type": "stream",
     "text": [
      "Requirement already satisfied: pydotplus in c:\\users\\hp\\appdata\\local\\programs\\python\\python310\\lib\\site-packages (2.0.2)\n",
      "Requirement already satisfied: pyparsing>=2.0.1 in c:\\users\\hp\\appdata\\local\\programs\\python\\python310\\lib\\site-packages (from pydotplus) (3.0.9)\n"
     ]
    },
    {
     "name": "stderr",
     "output_type": "stream",
     "text": [
      "\n",
      "[notice] A new release of pip is available: 23.1.2 -> 24.3.1\n",
      "[notice] To update, run: python.exe -m pip install --upgrade pip\n"
     ]
    }
   ],
   "source": [
    "#Install package untuk visualisasi\n",
    "!conda install python-graphviz -y\n",
    "!pip install python-graphviz -y\n",
    "!pip install pydotplus"
   ]
  },
  {
   "cell_type": "markdown",
   "id": "2516f2fa",
   "metadata": {},
   "source": [
    "## B. Data Understanding\n",
    "Data understanding adalah sebuah tahapan yang bertujuan untuk mendapatkan pemahaman awal mengenai data yang dibutuhkan untuk memecahkan permasalahan yang diberikan.\n",
    "\n",
    "## C. Data Collection\n",
    "Data collection atau pengumpulan data adalah prosedur mengumpulkan, mengukur, dan menganalisis berbagai tipe informasi menggunakan teknik yang berstandar."
   ]
  },
  {
   "cell_type": "code",
   "execution_count": 3,
   "id": "23d657c3",
   "metadata": {},
   "outputs": [
    {
     "data": {
      "text/html": [
       "<div>\n",
       "<style scoped>\n",
       "    .dataframe tbody tr th:only-of-type {\n",
       "        vertical-align: middle;\n",
       "    }\n",
       "\n",
       "    .dataframe tbody tr th {\n",
       "        vertical-align: top;\n",
       "    }\n",
       "\n",
       "    .dataframe thead th {\n",
       "        text-align: right;\n",
       "    }\n",
       "</style>\n",
       "<table border=\"1\" class=\"dataframe\">\n",
       "  <thead>\n",
       "    <tr style=\"text-align: right;\">\n",
       "      <th></th>\n",
       "      <th>age;\"job\";\"marital\";\"education\";\"default\";\"balance\";\"housing\";\"loan\";\"contact\";\"day\";\"month\";\"duration\";\"campaign\";\"pdays\";\"previous\";\"poutcome\";\"y\"</th>\n",
       "    </tr>\n",
       "  </thead>\n",
       "  <tbody>\n",
       "    <tr>\n",
       "      <th>0</th>\n",
       "      <td>58;\"management\";\"married\";\"tertiary\";\"no\";2143...</td>\n",
       "    </tr>\n",
       "    <tr>\n",
       "      <th>1</th>\n",
       "      <td>44;\"technician\";\"single\";\"secondary\";\"no\";29;\"...</td>\n",
       "    </tr>\n",
       "    <tr>\n",
       "      <th>2</th>\n",
       "      <td>33;\"entrepreneur\";\"married\";\"secondary\";\"no\";2...</td>\n",
       "    </tr>\n",
       "    <tr>\n",
       "      <th>3</th>\n",
       "      <td>47;\"blue-collar\";\"married\";\"unknown\";\"no\";1506...</td>\n",
       "    </tr>\n",
       "    <tr>\n",
       "      <th>4</th>\n",
       "      <td>33;\"unknown\";\"single\";\"unknown\";\"no\";1;\"no\";\"n...</td>\n",
       "    </tr>\n",
       "    <tr>\n",
       "      <th>...</th>\n",
       "      <td>...</td>\n",
       "    </tr>\n",
       "    <tr>\n",
       "      <th>45206</th>\n",
       "      <td>51;\"technician\";\"married\";\"tertiary\";\"no\";825;...</td>\n",
       "    </tr>\n",
       "    <tr>\n",
       "      <th>45207</th>\n",
       "      <td>71;\"retired\";\"divorced\";\"primary\";\"no\";1729;\"n...</td>\n",
       "    </tr>\n",
       "    <tr>\n",
       "      <th>45208</th>\n",
       "      <td>72;\"retired\";\"married\";\"secondary\";\"no\";5715;\"...</td>\n",
       "    </tr>\n",
       "    <tr>\n",
       "      <th>45209</th>\n",
       "      <td>57;\"blue-collar\";\"married\";\"secondary\";\"no\";66...</td>\n",
       "    </tr>\n",
       "    <tr>\n",
       "      <th>45210</th>\n",
       "      <td>37;\"entrepreneur\";\"married\";\"secondary\";\"no\";2...</td>\n",
       "    </tr>\n",
       "  </tbody>\n",
       "</table>\n",
       "<p>45211 rows × 1 columns</p>\n",
       "</div>"
      ],
      "text/plain": [
       "      age;\"job\";\"marital\";\"education\";\"default\";\"balance\";\"housing\";\"loan\";\"contact\";\"day\";\"month\";\"duration\";\"campaign\";\"pdays\";\"previous\";\"poutcome\";\"y\"\n",
       "0      58;\"management\";\"married\";\"tertiary\";\"no\";2143...                                                                                                  \n",
       "1      44;\"technician\";\"single\";\"secondary\";\"no\";29;\"...                                                                                                  \n",
       "2      33;\"entrepreneur\";\"married\";\"secondary\";\"no\";2...                                                                                                  \n",
       "3      47;\"blue-collar\";\"married\";\"unknown\";\"no\";1506...                                                                                                  \n",
       "4      33;\"unknown\";\"single\";\"unknown\";\"no\";1;\"no\";\"n...                                                                                                  \n",
       "...                                                  ...                                                                                                  \n",
       "45206  51;\"technician\";\"married\";\"tertiary\";\"no\";825;...                                                                                                  \n",
       "45207  71;\"retired\";\"divorced\";\"primary\";\"no\";1729;\"n...                                                                                                  \n",
       "45208  72;\"retired\";\"married\";\"secondary\";\"no\";5715;\"...                                                                                                  \n",
       "45209  57;\"blue-collar\";\"married\";\"secondary\";\"no\";66...                                                                                                  \n",
       "45210  37;\"entrepreneur\";\"married\";\"secondary\";\"no\";2...                                                                                                  \n",
       "\n",
       "[45211 rows x 1 columns]"
      ]
     },
     "execution_count": 3,
     "metadata": {},
     "output_type": "execute_result"
    }
   ],
   "source": [
    "df = pd.read_csv(\"bank-full.csv\")\n",
    "df"
   ]
  },
  {
   "cell_type": "markdown",
   "id": "b5e84567",
   "metadata": {},
   "source": [
    "Ternyata datanya berbentuk 1 kolom dan 45211 baris. Jelas bentuk ini masih berantakan. Oleh karena itu, mari kita benarkan dengan menggunakan **delimiter** dan **quotechar**."
   ]
  },
  {
   "cell_type": "code",
   "execution_count": 4,
   "id": "49846e2d",
   "metadata": {},
   "outputs": [
    {
     "data": {
      "text/html": [
       "<div>\n",
       "<style scoped>\n",
       "    .dataframe tbody tr th:only-of-type {\n",
       "        vertical-align: middle;\n",
       "    }\n",
       "\n",
       "    .dataframe tbody tr th {\n",
       "        vertical-align: top;\n",
       "    }\n",
       "\n",
       "    .dataframe thead th {\n",
       "        text-align: right;\n",
       "    }\n",
       "</style>\n",
       "<table border=\"1\" class=\"dataframe\">\n",
       "  <thead>\n",
       "    <tr style=\"text-align: right;\">\n",
       "      <th></th>\n",
       "      <th>age</th>\n",
       "      <th>job</th>\n",
       "      <th>marital</th>\n",
       "      <th>education</th>\n",
       "      <th>default</th>\n",
       "      <th>balance</th>\n",
       "      <th>housing</th>\n",
       "      <th>loan</th>\n",
       "      <th>contact</th>\n",
       "      <th>day</th>\n",
       "      <th>month</th>\n",
       "      <th>duration</th>\n",
       "      <th>campaign</th>\n",
       "      <th>pdays</th>\n",
       "      <th>previous</th>\n",
       "      <th>poutcome</th>\n",
       "      <th>y</th>\n",
       "    </tr>\n",
       "  </thead>\n",
       "  <tbody>\n",
       "    <tr>\n",
       "      <th>0</th>\n",
       "      <td>58</td>\n",
       "      <td>management</td>\n",
       "      <td>married</td>\n",
       "      <td>tertiary</td>\n",
       "      <td>no</td>\n",
       "      <td>2143</td>\n",
       "      <td>yes</td>\n",
       "      <td>no</td>\n",
       "      <td>unknown</td>\n",
       "      <td>5</td>\n",
       "      <td>may</td>\n",
       "      <td>261</td>\n",
       "      <td>1</td>\n",
       "      <td>-1</td>\n",
       "      <td>0</td>\n",
       "      <td>unknown</td>\n",
       "      <td>no</td>\n",
       "    </tr>\n",
       "    <tr>\n",
       "      <th>1</th>\n",
       "      <td>44</td>\n",
       "      <td>technician</td>\n",
       "      <td>single</td>\n",
       "      <td>secondary</td>\n",
       "      <td>no</td>\n",
       "      <td>29</td>\n",
       "      <td>yes</td>\n",
       "      <td>no</td>\n",
       "      <td>unknown</td>\n",
       "      <td>5</td>\n",
       "      <td>may</td>\n",
       "      <td>151</td>\n",
       "      <td>1</td>\n",
       "      <td>-1</td>\n",
       "      <td>0</td>\n",
       "      <td>unknown</td>\n",
       "      <td>no</td>\n",
       "    </tr>\n",
       "    <tr>\n",
       "      <th>2</th>\n",
       "      <td>33</td>\n",
       "      <td>entrepreneur</td>\n",
       "      <td>married</td>\n",
       "      <td>secondary</td>\n",
       "      <td>no</td>\n",
       "      <td>2</td>\n",
       "      <td>yes</td>\n",
       "      <td>yes</td>\n",
       "      <td>unknown</td>\n",
       "      <td>5</td>\n",
       "      <td>may</td>\n",
       "      <td>76</td>\n",
       "      <td>1</td>\n",
       "      <td>-1</td>\n",
       "      <td>0</td>\n",
       "      <td>unknown</td>\n",
       "      <td>no</td>\n",
       "    </tr>\n",
       "    <tr>\n",
       "      <th>3</th>\n",
       "      <td>47</td>\n",
       "      <td>blue-collar</td>\n",
       "      <td>married</td>\n",
       "      <td>unknown</td>\n",
       "      <td>no</td>\n",
       "      <td>1506</td>\n",
       "      <td>yes</td>\n",
       "      <td>no</td>\n",
       "      <td>unknown</td>\n",
       "      <td>5</td>\n",
       "      <td>may</td>\n",
       "      <td>92</td>\n",
       "      <td>1</td>\n",
       "      <td>-1</td>\n",
       "      <td>0</td>\n",
       "      <td>unknown</td>\n",
       "      <td>no</td>\n",
       "    </tr>\n",
       "    <tr>\n",
       "      <th>4</th>\n",
       "      <td>33</td>\n",
       "      <td>unknown</td>\n",
       "      <td>single</td>\n",
       "      <td>unknown</td>\n",
       "      <td>no</td>\n",
       "      <td>1</td>\n",
       "      <td>no</td>\n",
       "      <td>no</td>\n",
       "      <td>unknown</td>\n",
       "      <td>5</td>\n",
       "      <td>may</td>\n",
       "      <td>198</td>\n",
       "      <td>1</td>\n",
       "      <td>-1</td>\n",
       "      <td>0</td>\n",
       "      <td>unknown</td>\n",
       "      <td>no</td>\n",
       "    </tr>\n",
       "    <tr>\n",
       "      <th>...</th>\n",
       "      <td>...</td>\n",
       "      <td>...</td>\n",
       "      <td>...</td>\n",
       "      <td>...</td>\n",
       "      <td>...</td>\n",
       "      <td>...</td>\n",
       "      <td>...</td>\n",
       "      <td>...</td>\n",
       "      <td>...</td>\n",
       "      <td>...</td>\n",
       "      <td>...</td>\n",
       "      <td>...</td>\n",
       "      <td>...</td>\n",
       "      <td>...</td>\n",
       "      <td>...</td>\n",
       "      <td>...</td>\n",
       "      <td>...</td>\n",
       "    </tr>\n",
       "    <tr>\n",
       "      <th>45206</th>\n",
       "      <td>51</td>\n",
       "      <td>technician</td>\n",
       "      <td>married</td>\n",
       "      <td>tertiary</td>\n",
       "      <td>no</td>\n",
       "      <td>825</td>\n",
       "      <td>no</td>\n",
       "      <td>no</td>\n",
       "      <td>cellular</td>\n",
       "      <td>17</td>\n",
       "      <td>nov</td>\n",
       "      <td>977</td>\n",
       "      <td>3</td>\n",
       "      <td>-1</td>\n",
       "      <td>0</td>\n",
       "      <td>unknown</td>\n",
       "      <td>yes</td>\n",
       "    </tr>\n",
       "    <tr>\n",
       "      <th>45207</th>\n",
       "      <td>71</td>\n",
       "      <td>retired</td>\n",
       "      <td>divorced</td>\n",
       "      <td>primary</td>\n",
       "      <td>no</td>\n",
       "      <td>1729</td>\n",
       "      <td>no</td>\n",
       "      <td>no</td>\n",
       "      <td>cellular</td>\n",
       "      <td>17</td>\n",
       "      <td>nov</td>\n",
       "      <td>456</td>\n",
       "      <td>2</td>\n",
       "      <td>-1</td>\n",
       "      <td>0</td>\n",
       "      <td>unknown</td>\n",
       "      <td>yes</td>\n",
       "    </tr>\n",
       "    <tr>\n",
       "      <th>45208</th>\n",
       "      <td>72</td>\n",
       "      <td>retired</td>\n",
       "      <td>married</td>\n",
       "      <td>secondary</td>\n",
       "      <td>no</td>\n",
       "      <td>5715</td>\n",
       "      <td>no</td>\n",
       "      <td>no</td>\n",
       "      <td>cellular</td>\n",
       "      <td>17</td>\n",
       "      <td>nov</td>\n",
       "      <td>1127</td>\n",
       "      <td>5</td>\n",
       "      <td>184</td>\n",
       "      <td>3</td>\n",
       "      <td>success</td>\n",
       "      <td>yes</td>\n",
       "    </tr>\n",
       "    <tr>\n",
       "      <th>45209</th>\n",
       "      <td>57</td>\n",
       "      <td>blue-collar</td>\n",
       "      <td>married</td>\n",
       "      <td>secondary</td>\n",
       "      <td>no</td>\n",
       "      <td>668</td>\n",
       "      <td>no</td>\n",
       "      <td>no</td>\n",
       "      <td>telephone</td>\n",
       "      <td>17</td>\n",
       "      <td>nov</td>\n",
       "      <td>508</td>\n",
       "      <td>4</td>\n",
       "      <td>-1</td>\n",
       "      <td>0</td>\n",
       "      <td>unknown</td>\n",
       "      <td>no</td>\n",
       "    </tr>\n",
       "    <tr>\n",
       "      <th>45210</th>\n",
       "      <td>37</td>\n",
       "      <td>entrepreneur</td>\n",
       "      <td>married</td>\n",
       "      <td>secondary</td>\n",
       "      <td>no</td>\n",
       "      <td>2971</td>\n",
       "      <td>no</td>\n",
       "      <td>no</td>\n",
       "      <td>cellular</td>\n",
       "      <td>17</td>\n",
       "      <td>nov</td>\n",
       "      <td>361</td>\n",
       "      <td>2</td>\n",
       "      <td>188</td>\n",
       "      <td>11</td>\n",
       "      <td>other</td>\n",
       "      <td>no</td>\n",
       "    </tr>\n",
       "  </tbody>\n",
       "</table>\n",
       "<p>45211 rows × 17 columns</p>\n",
       "</div>"
      ],
      "text/plain": [
       "       age           job   marital  education default  balance housing loan   \n",
       "0       58    management   married   tertiary      no     2143     yes   no  \\\n",
       "1       44    technician    single  secondary      no       29     yes   no   \n",
       "2       33  entrepreneur   married  secondary      no        2     yes  yes   \n",
       "3       47   blue-collar   married    unknown      no     1506     yes   no   \n",
       "4       33       unknown    single    unknown      no        1      no   no   \n",
       "...    ...           ...       ...        ...     ...      ...     ...  ...   \n",
       "45206   51    technician   married   tertiary      no      825      no   no   \n",
       "45207   71       retired  divorced    primary      no     1729      no   no   \n",
       "45208   72       retired   married  secondary      no     5715      no   no   \n",
       "45209   57   blue-collar   married  secondary      no      668      no   no   \n",
       "45210   37  entrepreneur   married  secondary      no     2971      no   no   \n",
       "\n",
       "         contact  day month  duration  campaign  pdays  previous poutcome    y  \n",
       "0        unknown    5   may       261         1     -1         0  unknown   no  \n",
       "1        unknown    5   may       151         1     -1         0  unknown   no  \n",
       "2        unknown    5   may        76         1     -1         0  unknown   no  \n",
       "3        unknown    5   may        92         1     -1         0  unknown   no  \n",
       "4        unknown    5   may       198         1     -1         0  unknown   no  \n",
       "...          ...  ...   ...       ...       ...    ...       ...      ...  ...  \n",
       "45206   cellular   17   nov       977         3     -1         0  unknown  yes  \n",
       "45207   cellular   17   nov       456         2     -1         0  unknown  yes  \n",
       "45208   cellular   17   nov      1127         5    184         3  success  yes  \n",
       "45209  telephone   17   nov       508         4     -1         0  unknown   no  \n",
       "45210   cellular   17   nov       361         2    188        11    other   no  \n",
       "\n",
       "[45211 rows x 17 columns]"
      ]
     },
     "execution_count": 4,
     "metadata": {},
     "output_type": "execute_result"
    }
   ],
   "source": [
    "df = pd.read_csv(\"bank-full.csv\", delimiter=\";\", quotechar='\"')\n",
    "df"
   ]
  },
  {
   "cell_type": "code",
   "execution_count": 5,
   "id": "7af1bf77",
   "metadata": {},
   "outputs": [
    {
     "name": "stdout",
     "output_type": "stream",
     "text": [
      "<class 'pandas.core.frame.DataFrame'>\n",
      "RangeIndex: 45211 entries, 0 to 45210\n",
      "Data columns (total 17 columns):\n",
      " #   Column     Non-Null Count  Dtype \n",
      "---  ------     --------------  ----- \n",
      " 0   age        45211 non-null  int64 \n",
      " 1   job        45211 non-null  object\n",
      " 2   marital    45211 non-null  object\n",
      " 3   education  45211 non-null  object\n",
      " 4   default    45211 non-null  object\n",
      " 5   balance    45211 non-null  int64 \n",
      " 6   housing    45211 non-null  object\n",
      " 7   loan       45211 non-null  object\n",
      " 8   contact    45211 non-null  object\n",
      " 9   day        45211 non-null  int64 \n",
      " 10  month      45211 non-null  object\n",
      " 11  duration   45211 non-null  int64 \n",
      " 12  campaign   45211 non-null  int64 \n",
      " 13  pdays      45211 non-null  int64 \n",
      " 14  previous   45211 non-null  int64 \n",
      " 15  poutcome   45211 non-null  object\n",
      " 16  y          45211 non-null  object\n",
      "dtypes: int64(7), object(10)\n",
      "memory usage: 5.9+ MB\n"
     ]
    }
   ],
   "source": [
    "df.info()"
   ]
  },
  {
   "cell_type": "markdown",
   "id": "848ad030",
   "metadata": {},
   "source": [
    "Dapat dilihat bahwa column dan dtype sudah sesuai dengan jenisnya masing-masing. Namun, untuk memodelkan data tersebut menjadi machine learning, diharuskan mengubah keseluruhan dtype kolom menjadi int32 atau int64. Hal ini akan dibahas pada **Label Encode** nanti. Selanjutnya, kita akan mengubah nama kolom **y** menjadi **Client_Subscribed** agar lebih mudah dimengerti."
   ]
  },
  {
   "cell_type": "code",
   "execution_count": 12,
   "id": "6ab6d646",
   "metadata": {},
   "outputs": [
    {
     "data": {
      "text/html": [
       "<div>\n",
       "<style scoped>\n",
       "    .dataframe tbody tr th:only-of-type {\n",
       "        vertical-align: middle;\n",
       "    }\n",
       "\n",
       "    .dataframe tbody tr th {\n",
       "        vertical-align: top;\n",
       "    }\n",
       "\n",
       "    .dataframe thead th {\n",
       "        text-align: right;\n",
       "    }\n",
       "</style>\n",
       "<table border=\"1\" class=\"dataframe\">\n",
       "  <thead>\n",
       "    <tr style=\"text-align: right;\">\n",
       "      <th></th>\n",
       "      <th>age</th>\n",
       "      <th>job</th>\n",
       "      <th>marital</th>\n",
       "      <th>education</th>\n",
       "      <th>default</th>\n",
       "      <th>balance</th>\n",
       "      <th>housing</th>\n",
       "      <th>loan</th>\n",
       "      <th>contact</th>\n",
       "      <th>day</th>\n",
       "      <th>month</th>\n",
       "      <th>duration</th>\n",
       "      <th>campaign</th>\n",
       "      <th>pdays</th>\n",
       "      <th>previous</th>\n",
       "      <th>poutcome</th>\n",
       "      <th>Client_Subscribed</th>\n",
       "    </tr>\n",
       "  </thead>\n",
       "  <tbody>\n",
       "    <tr>\n",
       "      <th>0</th>\n",
       "      <td>58</td>\n",
       "      <td>management</td>\n",
       "      <td>married</td>\n",
       "      <td>tertiary</td>\n",
       "      <td>no</td>\n",
       "      <td>2143</td>\n",
       "      <td>yes</td>\n",
       "      <td>no</td>\n",
       "      <td>unknown</td>\n",
       "      <td>5</td>\n",
       "      <td>may</td>\n",
       "      <td>261</td>\n",
       "      <td>1</td>\n",
       "      <td>-1</td>\n",
       "      <td>0</td>\n",
       "      <td>unknown</td>\n",
       "      <td>no</td>\n",
       "    </tr>\n",
       "    <tr>\n",
       "      <th>1</th>\n",
       "      <td>44</td>\n",
       "      <td>technician</td>\n",
       "      <td>single</td>\n",
       "      <td>secondary</td>\n",
       "      <td>no</td>\n",
       "      <td>29</td>\n",
       "      <td>yes</td>\n",
       "      <td>no</td>\n",
       "      <td>unknown</td>\n",
       "      <td>5</td>\n",
       "      <td>may</td>\n",
       "      <td>151</td>\n",
       "      <td>1</td>\n",
       "      <td>-1</td>\n",
       "      <td>0</td>\n",
       "      <td>unknown</td>\n",
       "      <td>no</td>\n",
       "    </tr>\n",
       "    <tr>\n",
       "      <th>2</th>\n",
       "      <td>33</td>\n",
       "      <td>entrepreneur</td>\n",
       "      <td>married</td>\n",
       "      <td>secondary</td>\n",
       "      <td>no</td>\n",
       "      <td>2</td>\n",
       "      <td>yes</td>\n",
       "      <td>yes</td>\n",
       "      <td>unknown</td>\n",
       "      <td>5</td>\n",
       "      <td>may</td>\n",
       "      <td>76</td>\n",
       "      <td>1</td>\n",
       "      <td>-1</td>\n",
       "      <td>0</td>\n",
       "      <td>unknown</td>\n",
       "      <td>no</td>\n",
       "    </tr>\n",
       "    <tr>\n",
       "      <th>3</th>\n",
       "      <td>47</td>\n",
       "      <td>blue-collar</td>\n",
       "      <td>married</td>\n",
       "      <td>unknown</td>\n",
       "      <td>no</td>\n",
       "      <td>1506</td>\n",
       "      <td>yes</td>\n",
       "      <td>no</td>\n",
       "      <td>unknown</td>\n",
       "      <td>5</td>\n",
       "      <td>may</td>\n",
       "      <td>92</td>\n",
       "      <td>1</td>\n",
       "      <td>-1</td>\n",
       "      <td>0</td>\n",
       "      <td>unknown</td>\n",
       "      <td>no</td>\n",
       "    </tr>\n",
       "    <tr>\n",
       "      <th>4</th>\n",
       "      <td>33</td>\n",
       "      <td>unknown</td>\n",
       "      <td>single</td>\n",
       "      <td>unknown</td>\n",
       "      <td>no</td>\n",
       "      <td>1</td>\n",
       "      <td>no</td>\n",
       "      <td>no</td>\n",
       "      <td>unknown</td>\n",
       "      <td>5</td>\n",
       "      <td>may</td>\n",
       "      <td>198</td>\n",
       "      <td>1</td>\n",
       "      <td>-1</td>\n",
       "      <td>0</td>\n",
       "      <td>unknown</td>\n",
       "      <td>no</td>\n",
       "    </tr>\n",
       "    <tr>\n",
       "      <th>...</th>\n",
       "      <td>...</td>\n",
       "      <td>...</td>\n",
       "      <td>...</td>\n",
       "      <td>...</td>\n",
       "      <td>...</td>\n",
       "      <td>...</td>\n",
       "      <td>...</td>\n",
       "      <td>...</td>\n",
       "      <td>...</td>\n",
       "      <td>...</td>\n",
       "      <td>...</td>\n",
       "      <td>...</td>\n",
       "      <td>...</td>\n",
       "      <td>...</td>\n",
       "      <td>...</td>\n",
       "      <td>...</td>\n",
       "      <td>...</td>\n",
       "    </tr>\n",
       "    <tr>\n",
       "      <th>45206</th>\n",
       "      <td>51</td>\n",
       "      <td>technician</td>\n",
       "      <td>married</td>\n",
       "      <td>tertiary</td>\n",
       "      <td>no</td>\n",
       "      <td>825</td>\n",
       "      <td>no</td>\n",
       "      <td>no</td>\n",
       "      <td>cellular</td>\n",
       "      <td>17</td>\n",
       "      <td>nov</td>\n",
       "      <td>977</td>\n",
       "      <td>3</td>\n",
       "      <td>-1</td>\n",
       "      <td>0</td>\n",
       "      <td>unknown</td>\n",
       "      <td>yes</td>\n",
       "    </tr>\n",
       "    <tr>\n",
       "      <th>45207</th>\n",
       "      <td>71</td>\n",
       "      <td>retired</td>\n",
       "      <td>divorced</td>\n",
       "      <td>primary</td>\n",
       "      <td>no</td>\n",
       "      <td>1729</td>\n",
       "      <td>no</td>\n",
       "      <td>no</td>\n",
       "      <td>cellular</td>\n",
       "      <td>17</td>\n",
       "      <td>nov</td>\n",
       "      <td>456</td>\n",
       "      <td>2</td>\n",
       "      <td>-1</td>\n",
       "      <td>0</td>\n",
       "      <td>unknown</td>\n",
       "      <td>yes</td>\n",
       "    </tr>\n",
       "    <tr>\n",
       "      <th>45208</th>\n",
       "      <td>72</td>\n",
       "      <td>retired</td>\n",
       "      <td>married</td>\n",
       "      <td>secondary</td>\n",
       "      <td>no</td>\n",
       "      <td>5715</td>\n",
       "      <td>no</td>\n",
       "      <td>no</td>\n",
       "      <td>cellular</td>\n",
       "      <td>17</td>\n",
       "      <td>nov</td>\n",
       "      <td>1127</td>\n",
       "      <td>5</td>\n",
       "      <td>184</td>\n",
       "      <td>3</td>\n",
       "      <td>success</td>\n",
       "      <td>yes</td>\n",
       "    </tr>\n",
       "    <tr>\n",
       "      <th>45209</th>\n",
       "      <td>57</td>\n",
       "      <td>blue-collar</td>\n",
       "      <td>married</td>\n",
       "      <td>secondary</td>\n",
       "      <td>no</td>\n",
       "      <td>668</td>\n",
       "      <td>no</td>\n",
       "      <td>no</td>\n",
       "      <td>telephone</td>\n",
       "      <td>17</td>\n",
       "      <td>nov</td>\n",
       "      <td>508</td>\n",
       "      <td>4</td>\n",
       "      <td>-1</td>\n",
       "      <td>0</td>\n",
       "      <td>unknown</td>\n",
       "      <td>no</td>\n",
       "    </tr>\n",
       "    <tr>\n",
       "      <th>45210</th>\n",
       "      <td>37</td>\n",
       "      <td>entrepreneur</td>\n",
       "      <td>married</td>\n",
       "      <td>secondary</td>\n",
       "      <td>no</td>\n",
       "      <td>2971</td>\n",
       "      <td>no</td>\n",
       "      <td>no</td>\n",
       "      <td>cellular</td>\n",
       "      <td>17</td>\n",
       "      <td>nov</td>\n",
       "      <td>361</td>\n",
       "      <td>2</td>\n",
       "      <td>188</td>\n",
       "      <td>11</td>\n",
       "      <td>other</td>\n",
       "      <td>no</td>\n",
       "    </tr>\n",
       "  </tbody>\n",
       "</table>\n",
       "<p>45211 rows × 17 columns</p>\n",
       "</div>"
      ],
      "text/plain": [
       "       age           job   marital  education default  balance housing loan   \n",
       "0       58    management   married   tertiary      no     2143     yes   no  \\\n",
       "1       44    technician    single  secondary      no       29     yes   no   \n",
       "2       33  entrepreneur   married  secondary      no        2     yes  yes   \n",
       "3       47   blue-collar   married    unknown      no     1506     yes   no   \n",
       "4       33       unknown    single    unknown      no        1      no   no   \n",
       "...    ...           ...       ...        ...     ...      ...     ...  ...   \n",
       "45206   51    technician   married   tertiary      no      825      no   no   \n",
       "45207   71       retired  divorced    primary      no     1729      no   no   \n",
       "45208   72       retired   married  secondary      no     5715      no   no   \n",
       "45209   57   blue-collar   married  secondary      no      668      no   no   \n",
       "45210   37  entrepreneur   married  secondary      no     2971      no   no   \n",
       "\n",
       "         contact  day month  duration  campaign  pdays  previous poutcome   \n",
       "0        unknown    5   may       261         1     -1         0  unknown  \\\n",
       "1        unknown    5   may       151         1     -1         0  unknown   \n",
       "2        unknown    5   may        76         1     -1         0  unknown   \n",
       "3        unknown    5   may        92         1     -1         0  unknown   \n",
       "4        unknown    5   may       198         1     -1         0  unknown   \n",
       "...          ...  ...   ...       ...       ...    ...       ...      ...   \n",
       "45206   cellular   17   nov       977         3     -1         0  unknown   \n",
       "45207   cellular   17   nov       456         2     -1         0  unknown   \n",
       "45208   cellular   17   nov      1127         5    184         3  success   \n",
       "45209  telephone   17   nov       508         4     -1         0  unknown   \n",
       "45210   cellular   17   nov       361         2    188        11    other   \n",
       "\n",
       "      Client_Subscribed  \n",
       "0                    no  \n",
       "1                    no  \n",
       "2                    no  \n",
       "3                    no  \n",
       "4                    no  \n",
       "...                 ...  \n",
       "45206               yes  \n",
       "45207               yes  \n",
       "45208               yes  \n",
       "45209                no  \n",
       "45210                no  \n",
       "\n",
       "[45211 rows x 17 columns]"
      ]
     },
     "execution_count": 12,
     "metadata": {},
     "output_type": "execute_result"
    }
   ],
   "source": [
    "df = df.rename(columns={\"y\":'Client_Subscribed'})\n",
    "df"
   ]
  },
  {
   "cell_type": "markdown",
   "id": "bb1a9c5c",
   "metadata": {},
   "source": [
    "**This dataset contains:**\n",
    "\n",
    "#### bank client data:\n",
    "1 - age (numeric) <br>\n",
    "2 - job : type of job (categorical: 'admin.','blue-collar','entrepreneur','housemaid','management','retired','self-employed','services','student','technician','unemployed','unknown')<br>\n",
    "3 - marital : marital status (categorical: 'divorced','married','single','unknown'; note: 'divorced' means divorced or widowed)<br>\n",
    "4 - education (categorical: 'basic.4y','basic.6y','basic.9y','high.school','illiterate','professional.course','university.degree','unknown')<br>\n",
    "5 - default: has credit in default? (categorical: 'no', 'yes', 'unknown')<br>\n",
    "6 - housing: has housing loan? (categorical: 'no', 'yes', 'unknown')<br>\n",
    "7 - loan: has personal loan? (categorical: 'no', 'yes', 'unknown')<br>\n",
    "\n",
    "#### related with the last contact of the current campaign:\n",
    "8 - contact: contact communication type (categorical: 'cellular', 'telephone')<br>\n",
    "9 - month: last contact month of year (categorical: 'jan', 'feb', 'mar', ..., 'nov', 'dec')<br>\n",
    "10 - day_of_week: last contact day of the week (categorical: 'mon', 'tue', 'wed', 'thu', 'fri')<br>\n",
    "11 - duration: last contact duration, in seconds (numeric). Important note: this attribute highly affects the output target (e.g., if duration=0 then y='no'). Yet, the duration is not known before a call is performed. Also, after the end of the call y is obviously known. Thus, this input should only be included for benchmark purposes and should be discarded if the intention is to have a realistic predictive model.<br>\n",
    "\n",
    "#### other attributes:\n",
    "12 - campaign: number of contacts performed during this campaign and for this client (numeric, includes last contact)<br>\n",
    "13 - pdays: number of days that passed by after the client was last contacted from a previous campaign (numeric; 999 means client was not previously contacted)<br>\n",
    "14 - previous: number of contacts performed before this campaign and for this client (numeric)<br>\n",
    "15 - poutcome: outcome of the previous marketing campaign (categorical: 'failure', 'nonexistent', 'success')<br>\n",
    "\n",
    "#### Output variable (desired target):\n",
    "16 - y - has the client subscribed a term deposit? (binary: 'yes','no')\n",
    "\n",
    "\n",
    "Sumber data : https://archive.ics.uci.edu/ml/datasets/Bank+Marketing"
   ]
  },
  {
   "cell_type": "markdown",
   "id": "27b28c77",
   "metadata": {},
   "source": [
    "# D. Data cleaning"
   ]
  },
  {
   "cell_type": "code",
   "execution_count": 13,
   "id": "ee44d660",
   "metadata": {},
   "outputs": [
    {
     "data": {
      "text/plain": [
       "(45211, 17)"
      ]
     },
     "execution_count": 13,
     "metadata": {},
     "output_type": "execute_result"
    }
   ],
   "source": [
    "df.shape"
   ]
  },
  {
   "cell_type": "code",
   "execution_count": 14,
   "id": "67665ca2",
   "metadata": {},
   "outputs": [
    {
     "data": {
      "text/html": [
       "<div>\n",
       "<style scoped>\n",
       "    .dataframe tbody tr th:only-of-type {\n",
       "        vertical-align: middle;\n",
       "    }\n",
       "\n",
       "    .dataframe tbody tr th {\n",
       "        vertical-align: top;\n",
       "    }\n",
       "\n",
       "    .dataframe thead th {\n",
       "        text-align: right;\n",
       "    }\n",
       "</style>\n",
       "<table border=\"1\" class=\"dataframe\">\n",
       "  <thead>\n",
       "    <tr style=\"text-align: right;\">\n",
       "      <th></th>\n",
       "      <th>age</th>\n",
       "      <th>balance</th>\n",
       "      <th>day</th>\n",
       "      <th>duration</th>\n",
       "      <th>campaign</th>\n",
       "      <th>pdays</th>\n",
       "      <th>previous</th>\n",
       "    </tr>\n",
       "  </thead>\n",
       "  <tbody>\n",
       "    <tr>\n",
       "      <th>count</th>\n",
       "      <td>45211.000000</td>\n",
       "      <td>45211.000000</td>\n",
       "      <td>45211.000000</td>\n",
       "      <td>45211.000000</td>\n",
       "      <td>45211.000000</td>\n",
       "      <td>45211.000000</td>\n",
       "      <td>45211.000000</td>\n",
       "    </tr>\n",
       "    <tr>\n",
       "      <th>mean</th>\n",
       "      <td>40.936210</td>\n",
       "      <td>1362.272058</td>\n",
       "      <td>15.806419</td>\n",
       "      <td>258.163080</td>\n",
       "      <td>2.763841</td>\n",
       "      <td>40.197828</td>\n",
       "      <td>0.580323</td>\n",
       "    </tr>\n",
       "    <tr>\n",
       "      <th>std</th>\n",
       "      <td>10.618762</td>\n",
       "      <td>3044.765829</td>\n",
       "      <td>8.322476</td>\n",
       "      <td>257.527812</td>\n",
       "      <td>3.098021</td>\n",
       "      <td>100.128746</td>\n",
       "      <td>2.303441</td>\n",
       "    </tr>\n",
       "    <tr>\n",
       "      <th>min</th>\n",
       "      <td>18.000000</td>\n",
       "      <td>-8019.000000</td>\n",
       "      <td>1.000000</td>\n",
       "      <td>0.000000</td>\n",
       "      <td>1.000000</td>\n",
       "      <td>-1.000000</td>\n",
       "      <td>0.000000</td>\n",
       "    </tr>\n",
       "    <tr>\n",
       "      <th>25%</th>\n",
       "      <td>33.000000</td>\n",
       "      <td>72.000000</td>\n",
       "      <td>8.000000</td>\n",
       "      <td>103.000000</td>\n",
       "      <td>1.000000</td>\n",
       "      <td>-1.000000</td>\n",
       "      <td>0.000000</td>\n",
       "    </tr>\n",
       "    <tr>\n",
       "      <th>50%</th>\n",
       "      <td>39.000000</td>\n",
       "      <td>448.000000</td>\n",
       "      <td>16.000000</td>\n",
       "      <td>180.000000</td>\n",
       "      <td>2.000000</td>\n",
       "      <td>-1.000000</td>\n",
       "      <td>0.000000</td>\n",
       "    </tr>\n",
       "    <tr>\n",
       "      <th>75%</th>\n",
       "      <td>48.000000</td>\n",
       "      <td>1428.000000</td>\n",
       "      <td>21.000000</td>\n",
       "      <td>319.000000</td>\n",
       "      <td>3.000000</td>\n",
       "      <td>-1.000000</td>\n",
       "      <td>0.000000</td>\n",
       "    </tr>\n",
       "    <tr>\n",
       "      <th>max</th>\n",
       "      <td>95.000000</td>\n",
       "      <td>102127.000000</td>\n",
       "      <td>31.000000</td>\n",
       "      <td>4918.000000</td>\n",
       "      <td>63.000000</td>\n",
       "      <td>871.000000</td>\n",
       "      <td>275.000000</td>\n",
       "    </tr>\n",
       "  </tbody>\n",
       "</table>\n",
       "</div>"
      ],
      "text/plain": [
       "                age        balance           day      duration      campaign   \n",
       "count  45211.000000   45211.000000  45211.000000  45211.000000  45211.000000  \\\n",
       "mean      40.936210    1362.272058     15.806419    258.163080      2.763841   \n",
       "std       10.618762    3044.765829      8.322476    257.527812      3.098021   \n",
       "min       18.000000   -8019.000000      1.000000      0.000000      1.000000   \n",
       "25%       33.000000      72.000000      8.000000    103.000000      1.000000   \n",
       "50%       39.000000     448.000000     16.000000    180.000000      2.000000   \n",
       "75%       48.000000    1428.000000     21.000000    319.000000      3.000000   \n",
       "max       95.000000  102127.000000     31.000000   4918.000000     63.000000   \n",
       "\n",
       "              pdays      previous  \n",
       "count  45211.000000  45211.000000  \n",
       "mean      40.197828      0.580323  \n",
       "std      100.128746      2.303441  \n",
       "min       -1.000000      0.000000  \n",
       "25%       -1.000000      0.000000  \n",
       "50%       -1.000000      0.000000  \n",
       "75%       -1.000000      0.000000  \n",
       "max      871.000000    275.000000  "
      ]
     },
     "execution_count": 14,
     "metadata": {},
     "output_type": "execute_result"
    }
   ],
   "source": [
    "df.describe()"
   ]
  },
  {
   "cell_type": "code",
   "execution_count": 15,
   "id": "5f211754",
   "metadata": {},
   "outputs": [
    {
     "data": {
      "text/plain": [
       "age                  0\n",
       "job                  0\n",
       "marital              0\n",
       "education            0\n",
       "default              0\n",
       "balance              0\n",
       "housing              0\n",
       "loan                 0\n",
       "contact              0\n",
       "day                  0\n",
       "month                0\n",
       "duration             0\n",
       "campaign             0\n",
       "pdays                0\n",
       "previous             0\n",
       "poutcome             0\n",
       "Client_Subscribed    0\n",
       "dtype: int64"
      ]
     },
     "execution_count": 15,
     "metadata": {},
     "output_type": "execute_result"
    }
   ],
   "source": [
    "df.isna().sum()"
   ]
  },
  {
   "cell_type": "code",
   "execution_count": 16,
   "id": "58c9506d",
   "metadata": {},
   "outputs": [
    {
     "data": {
      "text/plain": [
       "0"
      ]
     },
     "execution_count": 16,
     "metadata": {},
     "output_type": "execute_result"
    }
   ],
   "source": [
    "df.duplicated().sum()"
   ]
  },
  {
   "cell_type": "markdown",
   "id": "7f41bf4a",
   "metadata": {},
   "source": [
    "Berdasarkan data cleaning yang dilakukan, diperoleh informasi bahwa:\n",
    "- Data mempunyai bentuk : 45211 baris dan 17 kolom\n",
    "- Data mempunyai describe seperti diatas\n",
    "- Data tidak mempunyai nilai NaN\n",
    "- Data tidak mempunyai duplikat"
   ]
  },
  {
   "cell_type": "markdown",
   "id": "b0bf1c82",
   "metadata": {},
   "source": [
    "# E. Visualisasi data\n",
    "1. Bagaimana perbandingan client yang berlangganan dan tidak berlangganan deposit ini?\n",
    "2. Apa jenis marital status terbanyak dari client yang berlangganan deposit ini?\n",
    "3. Pada bulan apa client paling sering last contact dengan bank?"
   ]
  },
  {
   "cell_type": "markdown",
   "id": "6830dca2",
   "metadata": {},
   "source": [
    "### 1. Bagaimana perbandingan client yang berlangganan dan tidak berlangganan deposit ini?"
   ]
  },
  {
   "cell_type": "code",
   "execution_count": 17,
   "id": "58edce84",
   "metadata": {},
   "outputs": [
    {
     "data": {
      "text/html": [
       "<div>\n",
       "<style scoped>\n",
       "    .dataframe tbody tr th:only-of-type {\n",
       "        vertical-align: middle;\n",
       "    }\n",
       "\n",
       "    .dataframe tbody tr th {\n",
       "        vertical-align: top;\n",
       "    }\n",
       "\n",
       "    .dataframe thead th {\n",
       "        text-align: right;\n",
       "    }\n",
       "</style>\n",
       "<table border=\"1\" class=\"dataframe\">\n",
       "  <thead>\n",
       "    <tr style=\"text-align: right;\">\n",
       "      <th></th>\n",
       "      <th>Jumlah Jawaban</th>\n",
       "    </tr>\n",
       "    <tr>\n",
       "      <th>Client_Subscribed</th>\n",
       "      <th></th>\n",
       "    </tr>\n",
       "  </thead>\n",
       "  <tbody>\n",
       "    <tr>\n",
       "      <th>no</th>\n",
       "      <td>39922</td>\n",
       "    </tr>\n",
       "    <tr>\n",
       "      <th>yes</th>\n",
       "      <td>5289</td>\n",
       "    </tr>\n",
       "  </tbody>\n",
       "</table>\n",
       "</div>"
      ],
      "text/plain": [
       "                   Jumlah Jawaban\n",
       "Client_Subscribed                \n",
       "no                          39922\n",
       "yes                          5289"
      ]
     },
     "execution_count": 17,
     "metadata": {},
     "output_type": "execute_result"
    }
   ],
   "source": [
    "subs = pd.DataFrame({\"Jumlah Jawaban\":df[\"Client_Subscribed\"].value_counts()})\n",
    "subs"
   ]
  },
  {
   "cell_type": "code",
   "execution_count": 18,
   "id": "ee160057",
   "metadata": {},
   "outputs": [],
   "source": [
    "jumlah_data = subs[\"Jumlah Jawaban\"]"
   ]
  },
  {
   "cell_type": "code",
   "execution_count": 19,
   "id": "6f66e7b4",
   "metadata": {},
   "outputs": [
    {
     "data": {
      "image/png": "[encoded data removed]",
      "text/plain": [
       "<Figure size 1100x500 with 1 Axes>"
      ]
     },
     "metadata": {},
     "output_type": "display_data"
    }
   ],
   "source": [
    "#pilih warna\n",
    "colors_list = ['lightskyblue','pink']\n",
    "\n",
    "#pilih ukuran lingkaran\n",
    "explode_list = [0.015, 0.05]\n",
    "\n",
    "#Tambahkan details\n",
    "jumlah_data.plot(kind='pie',\n",
    "        figsize=(11,5),\n",
    "        autopct='%1.1f%%',\n",
    "        startangle=45,\n",
    "        shadow=True,\n",
    "        labels=None,\n",
    "        pctdistance=1.2,\n",
    "        colors=colors_list,\n",
    "        explode=explode_list)\n",
    "\n",
    "#untuk memberikan informasi daerah berwarna\n",
    "plt.legend(labels=jumlah_data.index,loc='upper left')\n",
    "plt.axis('equal')\n",
    "\n",
    "#menambahkan judul\n",
    "plt.title('Perbandingan client yang berlangganan dan tidak berlangganan',y=1.12)\n",
    "\n",
    "#menampilkan\n",
    "plt.show()"
   ]
  },
  {
   "cell_type": "code",
   "execution_count": 20,
   "id": "e9a6efb8",
   "metadata": {},
   "outputs": [
    {
     "data": {
      "image/png": "[encoded data removed]",
      "text/plain": [
       "<Figure size 700x400 with 1 Axes>"
      ]
     },
     "metadata": {},
     "output_type": "display_data"
    }
   ],
   "source": [
    "label=[\"YES\",\"NO\"]\n",
    "jumlah_data.plot(kind=\"bar\", figsize=(7,4))\n",
    "plt.bar(label,jumlah_data, color=['pink', 'skyblue'])\n",
    "plt.title('Perbandingan client yang berlangganan dan tidak berlangganan') #judul\n",
    "plt.xlabel(\"Kriteria\")\n",
    "plt.ylabel(\"Jumlah\")\n",
    "plt.show() #tampilkan"
   ]
  },
  {
   "cell_type": "code",
   "execution_count": 21,
   "id": "0ea5265a",
   "metadata": {},
   "outputs": [
    {
     "data": {
      "image/png": "[encoded data removed]",
      "text/plain": [
       "<Figure size 700x400 with 1 Axes>"
      ]
     },
     "metadata": {},
     "output_type": "display_data"
    }
   ],
   "source": [
    "jumlah_data.plot(kind='box', figsize=(7,4))\n",
    "\n",
    "plt.title('Box Plot Perbandingan client yang berlangganan dan tidak berlangganan')\n",
    "plt.ylabel('Number of Counted')\n",
    "plt.xlabel('')\n",
    "\n",
    "plt.show()"
   ]
  },
  {
   "cell_type": "markdown",
   "id": "3d5dbbb4",
   "metadata": {},
   "source": [
    "### 2. Apa jenis marital status terbanyak dari client yang berlangganan deposit ini?"
   ]
  },
  {
   "cell_type": "code",
   "execution_count": 22,
   "id": "92c83547",
   "metadata": {},
   "outputs": [
    {
     "data": {
      "text/html": [
       "<div>\n",
       "<style scoped>\n",
       "    .dataframe tbody tr th:only-of-type {\n",
       "        vertical-align: middle;\n",
       "    }\n",
       "\n",
       "    .dataframe tbody tr th {\n",
       "        vertical-align: top;\n",
       "    }\n",
       "\n",
       "    .dataframe thead th {\n",
       "        text-align: right;\n",
       "    }\n",
       "</style>\n",
       "<table border=\"1\" class=\"dataframe\">\n",
       "  <thead>\n",
       "    <tr style=\"text-align: right;\">\n",
       "      <th></th>\n",
       "      <th>Jumlah</th>\n",
       "    </tr>\n",
       "    <tr>\n",
       "      <th>marital</th>\n",
       "      <th></th>\n",
       "    </tr>\n",
       "  </thead>\n",
       "  <tbody>\n",
       "    <tr>\n",
       "      <th>married</th>\n",
       "      <td>27214</td>\n",
       "    </tr>\n",
       "    <tr>\n",
       "      <th>single</th>\n",
       "      <td>12790</td>\n",
       "    </tr>\n",
       "    <tr>\n",
       "      <th>divorced</th>\n",
       "      <td>5207</td>\n",
       "    </tr>\n",
       "  </tbody>\n",
       "</table>\n",
       "</div>"
      ],
      "text/plain": [
       "          Jumlah\n",
       "marital         \n",
       "married    27214\n",
       "single     12790\n",
       "divorced    5207"
      ]
     },
     "execution_count": 22,
     "metadata": {},
     "output_type": "execute_result"
    }
   ],
   "source": [
    "marital = pd.DataFrame({\"Jumlah\":df[\"marital\"].value_counts()})\n",
    "marital"
   ]
  },
  {
   "cell_type": "code",
   "execution_count": 23,
   "id": "238f53f5",
   "metadata": {},
   "outputs": [
    {
     "data": {
      "text/html": [
       "<div>\n",
       "<style scoped>\n",
       "    .dataframe tbody tr th:only-of-type {\n",
       "        vertical-align: middle;\n",
       "    }\n",
       "\n",
       "    .dataframe tbody tr th {\n",
       "        vertical-align: top;\n",
       "    }\n",
       "\n",
       "    .dataframe thead th {\n",
       "        text-align: right;\n",
       "    }\n",
       "</style>\n",
       "<table border=\"1\" class=\"dataframe\">\n",
       "  <thead>\n",
       "    <tr style=\"text-align: right;\">\n",
       "      <th></th>\n",
       "      <th>marital</th>\n",
       "      <th>Client_Subscribed</th>\n",
       "    </tr>\n",
       "  </thead>\n",
       "  <tbody>\n",
       "    <tr>\n",
       "      <th>0</th>\n",
       "      <td>married</td>\n",
       "      <td>no</td>\n",
       "    </tr>\n",
       "    <tr>\n",
       "      <th>1</th>\n",
       "      <td>single</td>\n",
       "      <td>no</td>\n",
       "    </tr>\n",
       "    <tr>\n",
       "      <th>2</th>\n",
       "      <td>married</td>\n",
       "      <td>no</td>\n",
       "    </tr>\n",
       "    <tr>\n",
       "      <th>3</th>\n",
       "      <td>married</td>\n",
       "      <td>no</td>\n",
       "    </tr>\n",
       "    <tr>\n",
       "      <th>4</th>\n",
       "      <td>single</td>\n",
       "      <td>no</td>\n",
       "    </tr>\n",
       "    <tr>\n",
       "      <th>...</th>\n",
       "      <td>...</td>\n",
       "      <td>...</td>\n",
       "    </tr>\n",
       "    <tr>\n",
       "      <th>45206</th>\n",
       "      <td>married</td>\n",
       "      <td>yes</td>\n",
       "    </tr>\n",
       "    <tr>\n",
       "      <th>45207</th>\n",
       "      <td>divorced</td>\n",
       "      <td>yes</td>\n",
       "    </tr>\n",
       "    <tr>\n",
       "      <th>45208</th>\n",
       "      <td>married</td>\n",
       "      <td>yes</td>\n",
       "    </tr>\n",
       "    <tr>\n",
       "      <th>45209</th>\n",
       "      <td>married</td>\n",
       "      <td>no</td>\n",
       "    </tr>\n",
       "    <tr>\n",
       "      <th>45210</th>\n",
       "      <td>married</td>\n",
       "      <td>no</td>\n",
       "    </tr>\n",
       "  </tbody>\n",
       "</table>\n",
       "<p>45211 rows × 2 columns</p>\n",
       "</div>"
      ],
      "text/plain": [
       "        marital Client_Subscribed\n",
       "0       married                no\n",
       "1        single                no\n",
       "2       married                no\n",
       "3       married                no\n",
       "4        single                no\n",
       "...         ...               ...\n",
       "45206   married               yes\n",
       "45207  divorced               yes\n",
       "45208   married               yes\n",
       "45209   married                no\n",
       "45210   married                no\n",
       "\n",
       "[45211 rows x 2 columns]"
      ]
     },
     "execution_count": 23,
     "metadata": {},
     "output_type": "execute_result"
    }
   ],
   "source": [
    "M = df.loc[0:,['marital','Client_Subscribed']]\n",
    "M"
   ]
  },
  {
   "cell_type": "code",
   "execution_count": 24,
   "id": "1f5f3b87",
   "metadata": {},
   "outputs": [
    {
     "data": {
      "text/html": [
       "<div>\n",
       "<style scoped>\n",
       "    .dataframe tbody tr th:only-of-type {\n",
       "        vertical-align: middle;\n",
       "    }\n",
       "\n",
       "    .dataframe tbody tr th {\n",
       "        vertical-align: top;\n",
       "    }\n",
       "\n",
       "    .dataframe thead th {\n",
       "        text-align: right;\n",
       "    }\n",
       "</style>\n",
       "<table border=\"1\" class=\"dataframe\">\n",
       "  <thead>\n",
       "    <tr style=\"text-align: right;\">\n",
       "      <th></th>\n",
       "      <th>marital</th>\n",
       "      <th>Client_Subscribed</th>\n",
       "    </tr>\n",
       "  </thead>\n",
       "  <tbody>\n",
       "    <tr>\n",
       "      <th>83</th>\n",
       "      <td>married</td>\n",
       "      <td>yes</td>\n",
       "    </tr>\n",
       "    <tr>\n",
       "      <th>86</th>\n",
       "      <td>married</td>\n",
       "      <td>yes</td>\n",
       "    </tr>\n",
       "    <tr>\n",
       "      <th>87</th>\n",
       "      <td>married</td>\n",
       "      <td>yes</td>\n",
       "    </tr>\n",
       "    <tr>\n",
       "      <th>129</th>\n",
       "      <td>married</td>\n",
       "      <td>yes</td>\n",
       "    </tr>\n",
       "    <tr>\n",
       "      <th>168</th>\n",
       "      <td>married</td>\n",
       "      <td>yes</td>\n",
       "    </tr>\n",
       "    <tr>\n",
       "      <th>...</th>\n",
       "      <td>...</td>\n",
       "      <td>...</td>\n",
       "    </tr>\n",
       "    <tr>\n",
       "      <th>45200</th>\n",
       "      <td>married</td>\n",
       "      <td>yes</td>\n",
       "    </tr>\n",
       "    <tr>\n",
       "      <th>45201</th>\n",
       "      <td>married</td>\n",
       "      <td>yes</td>\n",
       "    </tr>\n",
       "    <tr>\n",
       "      <th>45204</th>\n",
       "      <td>married</td>\n",
       "      <td>yes</td>\n",
       "    </tr>\n",
       "    <tr>\n",
       "      <th>45206</th>\n",
       "      <td>married</td>\n",
       "      <td>yes</td>\n",
       "    </tr>\n",
       "    <tr>\n",
       "      <th>45208</th>\n",
       "      <td>married</td>\n",
       "      <td>yes</td>\n",
       "    </tr>\n",
       "  </tbody>\n",
       "</table>\n",
       "<p>2755 rows × 2 columns</p>\n",
       "</div>"
      ],
      "text/plain": [
       "       marital Client_Subscribed\n",
       "83     married               yes\n",
       "86     married               yes\n",
       "87     married               yes\n",
       "129    married               yes\n",
       "168    married               yes\n",
       "...        ...               ...\n",
       "45200  married               yes\n",
       "45201  married               yes\n",
       "45204  married               yes\n",
       "45206  married               yes\n",
       "45208  married               yes\n",
       "\n",
       "[2755 rows x 2 columns]"
      ]
     },
     "execution_count": 24,
     "metadata": {},
     "output_type": "execute_result"
    }
   ],
   "source": [
    "Marr = (M[(M['marital'] == 'married') & (M['Client_Subscribed'] == 'yes')])\n",
    "Marr"
   ]
  },
  {
   "cell_type": "code",
   "execution_count": 25,
   "id": "488f569a",
   "metadata": {},
   "outputs": [
    {
     "data": {
      "text/html": [
       "<div>\n",
       "<style scoped>\n",
       "    .dataframe tbody tr th:only-of-type {\n",
       "        vertical-align: middle;\n",
       "    }\n",
       "\n",
       "    .dataframe tbody tr th {\n",
       "        vertical-align: top;\n",
       "    }\n",
       "\n",
       "    .dataframe thead th {\n",
       "        text-align: right;\n",
       "    }\n",
       "</style>\n",
       "<table border=\"1\" class=\"dataframe\">\n",
       "  <thead>\n",
       "    <tr style=\"text-align: right;\">\n",
       "      <th></th>\n",
       "      <th>marital</th>\n",
       "      <th>Client_Subscribed</th>\n",
       "    </tr>\n",
       "  </thead>\n",
       "  <tbody>\n",
       "    <tr>\n",
       "      <th>270</th>\n",
       "      <td>single</td>\n",
       "      <td>yes</td>\n",
       "    </tr>\n",
       "    <tr>\n",
       "      <th>446</th>\n",
       "      <td>single</td>\n",
       "      <td>yes</td>\n",
       "    </tr>\n",
       "    <tr>\n",
       "      <th>569</th>\n",
       "      <td>single</td>\n",
       "      <td>yes</td>\n",
       "    </tr>\n",
       "    <tr>\n",
       "      <th>849</th>\n",
       "      <td>single</td>\n",
       "      <td>yes</td>\n",
       "    </tr>\n",
       "    <tr>\n",
       "      <th>897</th>\n",
       "      <td>single</td>\n",
       "      <td>yes</td>\n",
       "    </tr>\n",
       "    <tr>\n",
       "      <th>...</th>\n",
       "      <td>...</td>\n",
       "      <td>...</td>\n",
       "    </tr>\n",
       "    <tr>\n",
       "      <th>45196</th>\n",
       "      <td>single</td>\n",
       "      <td>yes</td>\n",
       "    </tr>\n",
       "    <tr>\n",
       "      <th>45197</th>\n",
       "      <td>single</td>\n",
       "      <td>yes</td>\n",
       "    </tr>\n",
       "    <tr>\n",
       "      <th>45202</th>\n",
       "      <td>single</td>\n",
       "      <td>yes</td>\n",
       "    </tr>\n",
       "    <tr>\n",
       "      <th>45203</th>\n",
       "      <td>single</td>\n",
       "      <td>yes</td>\n",
       "    </tr>\n",
       "    <tr>\n",
       "      <th>45205</th>\n",
       "      <td>single</td>\n",
       "      <td>yes</td>\n",
       "    </tr>\n",
       "  </tbody>\n",
       "</table>\n",
       "<p>1912 rows × 2 columns</p>\n",
       "</div>"
      ],
      "text/plain": [
       "      marital Client_Subscribed\n",
       "270    single               yes\n",
       "446    single               yes\n",
       "569    single               yes\n",
       "849    single               yes\n",
       "897    single               yes\n",
       "...       ...               ...\n",
       "45196  single               yes\n",
       "45197  single               yes\n",
       "45202  single               yes\n",
       "45203  single               yes\n",
       "45205  single               yes\n",
       "\n",
       "[1912 rows x 2 columns]"
      ]
     },
     "execution_count": 25,
     "metadata": {},
     "output_type": "execute_result"
    }
   ],
   "source": [
    "Sing = (M[(M['marital'] == 'single') & (M['Client_Subscribed'] == 'yes')])\n",
    "Sing"
   ]
  },
  {
   "cell_type": "code",
   "execution_count": 26,
   "id": "ed551e44",
   "metadata": {},
   "outputs": [
    {
     "data": {
      "text/html": [
       "<div>\n",
       "<style scoped>\n",
       "    .dataframe tbody tr th:only-of-type {\n",
       "        vertical-align: middle;\n",
       "    }\n",
       "\n",
       "    .dataframe tbody tr th {\n",
       "        vertical-align: top;\n",
       "    }\n",
       "\n",
       "    .dataframe thead th {\n",
       "        text-align: right;\n",
       "    }\n",
       "</style>\n",
       "<table border=\"1\" class=\"dataframe\">\n",
       "  <thead>\n",
       "    <tr style=\"text-align: right;\">\n",
       "      <th></th>\n",
       "      <th>marital</th>\n",
       "      <th>Client_Subscribed</th>\n",
       "    </tr>\n",
       "  </thead>\n",
       "  <tbody>\n",
       "    <tr>\n",
       "      <th>390</th>\n",
       "      <td>divorced</td>\n",
       "      <td>yes</td>\n",
       "    </tr>\n",
       "    <tr>\n",
       "      <th>512</th>\n",
       "      <td>divorced</td>\n",
       "      <td>yes</td>\n",
       "    </tr>\n",
       "    <tr>\n",
       "      <th>891</th>\n",
       "      <td>divorced</td>\n",
       "      <td>yes</td>\n",
       "    </tr>\n",
       "    <tr>\n",
       "      <th>1193</th>\n",
       "      <td>divorced</td>\n",
       "      <td>yes</td>\n",
       "    </tr>\n",
       "    <tr>\n",
       "      <th>1340</th>\n",
       "      <td>divorced</td>\n",
       "      <td>yes</td>\n",
       "    </tr>\n",
       "    <tr>\n",
       "      <th>...</th>\n",
       "      <td>...</td>\n",
       "      <td>...</td>\n",
       "    </tr>\n",
       "    <tr>\n",
       "      <th>45121</th>\n",
       "      <td>divorced</td>\n",
       "      <td>yes</td>\n",
       "    </tr>\n",
       "    <tr>\n",
       "      <th>45125</th>\n",
       "      <td>divorced</td>\n",
       "      <td>yes</td>\n",
       "    </tr>\n",
       "    <tr>\n",
       "      <th>45177</th>\n",
       "      <td>divorced</td>\n",
       "      <td>yes</td>\n",
       "    </tr>\n",
       "    <tr>\n",
       "      <th>45191</th>\n",
       "      <td>divorced</td>\n",
       "      <td>yes</td>\n",
       "    </tr>\n",
       "    <tr>\n",
       "      <th>45207</th>\n",
       "      <td>divorced</td>\n",
       "      <td>yes</td>\n",
       "    </tr>\n",
       "  </tbody>\n",
       "</table>\n",
       "<p>622 rows × 2 columns</p>\n",
       "</div>"
      ],
      "text/plain": [
       "        marital Client_Subscribed\n",
       "390    divorced               yes\n",
       "512    divorced               yes\n",
       "891    divorced               yes\n",
       "1193   divorced               yes\n",
       "1340   divorced               yes\n",
       "...         ...               ...\n",
       "45121  divorced               yes\n",
       "45125  divorced               yes\n",
       "45177  divorced               yes\n",
       "45191  divorced               yes\n",
       "45207  divorced               yes\n",
       "\n",
       "[622 rows x 2 columns]"
      ]
     },
     "execution_count": 26,
     "metadata": {},
     "output_type": "execute_result"
    }
   ],
   "source": [
    "Div = (M[(M['marital'] == 'divorced') & (M['Client_Subscribed'] == 'yes')])\n",
    "Div"
   ]
  },
  {
   "cell_type": "code",
   "execution_count": 27,
   "id": "dd65ce7e",
   "metadata": {},
   "outputs": [
    {
     "data": {
      "text/html": [
       "<div>\n",
       "<style scoped>\n",
       "    .dataframe tbody tr th:only-of-type {\n",
       "        vertical-align: middle;\n",
       "    }\n",
       "\n",
       "    .dataframe tbody tr th {\n",
       "        vertical-align: top;\n",
       "    }\n",
       "\n",
       "    .dataframe thead th {\n",
       "        text-align: right;\n",
       "    }\n",
       "</style>\n",
       "<table border=\"1\" class=\"dataframe\">\n",
       "  <thead>\n",
       "    <tr style=\"text-align: right;\">\n",
       "      <th></th>\n",
       "      <th>Jumlah married</th>\n",
       "    </tr>\n",
       "    <tr>\n",
       "      <th>Client_Subscribed</th>\n",
       "      <th></th>\n",
       "    </tr>\n",
       "  </thead>\n",
       "  <tbody>\n",
       "    <tr>\n",
       "      <th>yes</th>\n",
       "      <td>2755</td>\n",
       "    </tr>\n",
       "  </tbody>\n",
       "</table>\n",
       "</div>"
      ],
      "text/plain": [
       "                   Jumlah married\n",
       "Client_Subscribed                \n",
       "yes                          2755"
      ]
     },
     "execution_count": 27,
     "metadata": {},
     "output_type": "execute_result"
    }
   ],
   "source": [
    "mar = pd.DataFrame({\"Jumlah married\":Marr[\"Client_Subscribed\"].value_counts()})\n",
    "mar"
   ]
  },
  {
   "cell_type": "code",
   "execution_count": 28,
   "id": "4a020df1",
   "metadata": {},
   "outputs": [
    {
     "data": {
      "text/html": [
       "<div>\n",
       "<style scoped>\n",
       "    .dataframe tbody tr th:only-of-type {\n",
       "        vertical-align: middle;\n",
       "    }\n",
       "\n",
       "    .dataframe tbody tr th {\n",
       "        vertical-align: top;\n",
       "    }\n",
       "\n",
       "    .dataframe thead th {\n",
       "        text-align: right;\n",
       "    }\n",
       "</style>\n",
       "<table border=\"1\" class=\"dataframe\">\n",
       "  <thead>\n",
       "    <tr style=\"text-align: right;\">\n",
       "      <th></th>\n",
       "      <th>Jumlah Single</th>\n",
       "    </tr>\n",
       "    <tr>\n",
       "      <th>Client_Subscribed</th>\n",
       "      <th></th>\n",
       "    </tr>\n",
       "  </thead>\n",
       "  <tbody>\n",
       "    <tr>\n",
       "      <th>yes</th>\n",
       "      <td>1912</td>\n",
       "    </tr>\n",
       "  </tbody>\n",
       "</table>\n",
       "</div>"
      ],
      "text/plain": [
       "                   Jumlah Single\n",
       "Client_Subscribed               \n",
       "yes                         1912"
      ]
     },
     "execution_count": 28,
     "metadata": {},
     "output_type": "execute_result"
    }
   ],
   "source": [
    "sin = pd.DataFrame({\"Jumlah Single\":Sing[\"Client_Subscribed\"].value_counts()})\n",
    "sin"
   ]
  },
  {
   "cell_type": "code",
   "execution_count": 29,
   "id": "37c1c988",
   "metadata": {},
   "outputs": [
    {
     "data": {
      "text/html": [
       "<div>\n",
       "<style scoped>\n",
       "    .dataframe tbody tr th:only-of-type {\n",
       "        vertical-align: middle;\n",
       "    }\n",
       "\n",
       "    .dataframe tbody tr th {\n",
       "        vertical-align: top;\n",
       "    }\n",
       "\n",
       "    .dataframe thead th {\n",
       "        text-align: right;\n",
       "    }\n",
       "</style>\n",
       "<table border=\"1\" class=\"dataframe\">\n",
       "  <thead>\n",
       "    <tr style=\"text-align: right;\">\n",
       "      <th></th>\n",
       "      <th>Jumlah Divorced</th>\n",
       "    </tr>\n",
       "    <tr>\n",
       "      <th>Client_Subscribed</th>\n",
       "      <th></th>\n",
       "    </tr>\n",
       "  </thead>\n",
       "  <tbody>\n",
       "    <tr>\n",
       "      <th>yes</th>\n",
       "      <td>622</td>\n",
       "    </tr>\n",
       "  </tbody>\n",
       "</table>\n",
       "</div>"
      ],
      "text/plain": [
       "                   Jumlah Divorced\n",
       "Client_Subscribed                 \n",
       "yes                            622"
      ]
     },
     "execution_count": 29,
     "metadata": {},
     "output_type": "execute_result"
    }
   ],
   "source": [
    "di = pd.DataFrame({\"Jumlah Divorced\":Div[\"Client_Subscribed\"].value_counts()})\n",
    "di"
   ]
  },
  {
   "cell_type": "code",
   "execution_count": 30,
   "id": "23ea8d95",
   "metadata": {},
   "outputs": [
    {
     "data": {
      "text/html": [
       "<div>\n",
       "<style scoped>\n",
       "    .dataframe tbody tr th:only-of-type {\n",
       "        vertical-align: middle;\n",
       "    }\n",
       "\n",
       "    .dataframe tbody tr th {\n",
       "        vertical-align: top;\n",
       "    }\n",
       "\n",
       "    .dataframe thead th {\n",
       "        text-align: right;\n",
       "    }\n",
       "</style>\n",
       "<table border=\"1\" class=\"dataframe\">\n",
       "  <thead>\n",
       "    <tr style=\"text-align: right;\">\n",
       "      <th></th>\n",
       "      <th>Jumlah married</th>\n",
       "      <th>Jumlah Single</th>\n",
       "      <th>Jumlah Divorced</th>\n",
       "    </tr>\n",
       "    <tr>\n",
       "      <th>Client_Subscribed</th>\n",
       "      <th></th>\n",
       "      <th></th>\n",
       "      <th></th>\n",
       "    </tr>\n",
       "  </thead>\n",
       "  <tbody>\n",
       "    <tr>\n",
       "      <th>yes</th>\n",
       "      <td>2755</td>\n",
       "      <td>1912</td>\n",
       "      <td>622</td>\n",
       "    </tr>\n",
       "  </tbody>\n",
       "</table>\n",
       "</div>"
      ],
      "text/plain": [
       "                   Jumlah married  Jumlah Single  Jumlah Divorced\n",
       "Client_Subscribed                                                \n",
       "yes                          2755           1912              622"
      ]
     },
     "execution_count": 30,
     "metadata": {},
     "output_type": "execute_result"
    }
   ],
   "source": [
    "df_marital = pd.concat([mar,sin,di], axis=1)\n",
    "df_marital"
   ]
  },
  {
   "cell_type": "code",
   "execution_count": 31,
   "id": "675ac045",
   "metadata": {},
   "outputs": [
    {
     "data": {
      "image/png": "[encoded data removed]",
      "text/plain": [
       "<Figure size 700x400 with 1 Axes>"
      ]
     },
     "metadata": {},
     "output_type": "display_data"
    }
   ],
   "source": [
    "df_marital.plot(kind='bar', figsize=(7,4), color=('skyblue','pink','lightgreen'))\n",
    "\n",
    "plt.title('Bar chart marital status dari client yang berlangganan deposit ')\n",
    "plt.ylabel('Number of Counted')\n",
    "plt.xlabel('Kriteria')\n",
    "\n",
    "plt.show()"
   ]
  },
  {
   "cell_type": "markdown",
   "id": "eb420d04",
   "metadata": {},
   "source": [
    "### 3. Pada bulan apa client paling sering last contact dengan bank?"
   ]
  },
  {
   "cell_type": "code",
   "execution_count": 32,
   "id": "0deea0bf",
   "metadata": {},
   "outputs": [
    {
     "data": {
      "text/plain": [
       "month\n",
       "may    13766\n",
       "jul     6895\n",
       "aug     6247\n",
       "jun     5341\n",
       "nov     3970\n",
       "apr     2932\n",
       "feb     2649\n",
       "jan     1403\n",
       "oct      738\n",
       "sep      579\n",
       "mar      477\n",
       "dec      214\n",
       "Name: count, dtype: int64"
      ]
     },
     "execution_count": 32,
     "metadata": {},
     "output_type": "execute_result"
    }
   ],
   "source": [
    "month = df['month'].value_counts()\n",
    "month"
   ]
  },
  {
   "cell_type": "code",
   "execution_count": 33,
   "id": "95fe6bd6",
   "metadata": {},
   "outputs": [
    {
     "data": {
      "image/png": "[encoded data removed]",
      "text/plain": [
       "<Figure size 700x400 with 1 Axes>"
      ]
     },
     "metadata": {},
     "output_type": "display_data"
    }
   ],
   "source": [
    "month.plot(kind='bar', figsize=(7, 4), color='skyblue')\n",
    "\n",
    "plt.title('Bar chart bulan client last contact dengan bank')\n",
    "plt.ylabel('Number of Counted')\n",
    "plt.xlabel('Month')\n",
    "\n",
    "plt.show()"
   ]
  },
  {
   "cell_type": "code",
   "execution_count": 34,
   "id": "b1322c83",
   "metadata": {},
   "outputs": [
    {
     "data": {
      "image/png": "[encoded data removed]",
      "text/plain": [
       "<Figure size 700x400 with 1 Axes>"
      ]
     },
     "metadata": {},
     "output_type": "display_data"
    }
   ],
   "source": [
    "month.plot(kind='hist', figsize=(7,4), color='pink')\n",
    "\n",
    "plt.title('Histogram bulan client last contact dengan bank')\n",
    "plt.ylabel('Number of Month')\n",
    "plt.xlabel('Number of Counted')\n",
    "\n",
    "plt.show()"
   ]
  },
  {
   "cell_type": "markdown",
   "id": "84eae48a",
   "metadata": {},
   "source": [
    "## F. Preprocesing Data\n",
    "\n",
    "### F.1 Label Encoder\n",
    "Label Encoder digunakan untuk mengubah dtype object menjadi int32. Hal ini berfungsi untuk memudahkan proses dalam memodelkan kedalam machine learning nanti."
   ]
  },
  {
   "cell_type": "code",
   "execution_count": 35,
   "id": "7605f629",
   "metadata": {},
   "outputs": [],
   "source": [
    "# preprocessing.LabelEncoder() digunakan untuk membuat objek LabelEncoder yang akan digunakan untuk melakukan encoding pada setiap kolom.\n",
    "label_encoder = preprocessing.LabelEncoder()\n",
    "\n",
    "# mengambil tipe data object pada dataset dan di simpan di df_new\n",
    "df_category = df.select_dtypes(include='object')\n",
    "df_new = df.copy()\n",
    "\n",
    "for column in df_category.columns:\n",
    "    df_new[column] = label_encoder.fit_transform(df[column])"
   ]
  },
  {
   "cell_type": "code",
   "execution_count": 36,
   "id": "06b2eecb",
   "metadata": {},
   "outputs": [
    {
     "data": {
      "text/html": [
       "<div>\n",
       "<style scoped>\n",
       "    .dataframe tbody tr th:only-of-type {\n",
       "        vertical-align: middle;\n",
       "    }\n",
       "\n",
       "    .dataframe tbody tr th {\n",
       "        vertical-align: top;\n",
       "    }\n",
       "\n",
       "    .dataframe thead th {\n",
       "        text-align: right;\n",
       "    }\n",
       "</style>\n",
       "<table border=\"1\" class=\"dataframe\">\n",
       "  <thead>\n",
       "    <tr style=\"text-align: right;\">\n",
       "      <th></th>\n",
       "      <th>age</th>\n",
       "      <th>job</th>\n",
       "      <th>marital</th>\n",
       "      <th>education</th>\n",
       "      <th>default</th>\n",
       "      <th>balance</th>\n",
       "      <th>housing</th>\n",
       "      <th>loan</th>\n",
       "      <th>contact</th>\n",
       "      <th>day</th>\n",
       "      <th>month</th>\n",
       "      <th>duration</th>\n",
       "      <th>campaign</th>\n",
       "      <th>pdays</th>\n",
       "      <th>previous</th>\n",
       "      <th>poutcome</th>\n",
       "      <th>Client_Subscribed</th>\n",
       "    </tr>\n",
       "  </thead>\n",
       "  <tbody>\n",
       "    <tr>\n",
       "      <th>0</th>\n",
       "      <td>58</td>\n",
       "      <td>4</td>\n",
       "      <td>1</td>\n",
       "      <td>2</td>\n",
       "      <td>0</td>\n",
       "      <td>2143</td>\n",
       "      <td>1</td>\n",
       "      <td>0</td>\n",
       "      <td>2</td>\n",
       "      <td>5</td>\n",
       "      <td>8</td>\n",
       "      <td>261</td>\n",
       "      <td>1</td>\n",
       "      <td>-1</td>\n",
       "      <td>0</td>\n",
       "      <td>3</td>\n",
       "      <td>0</td>\n",
       "    </tr>\n",
       "    <tr>\n",
       "      <th>1</th>\n",
       "      <td>44</td>\n",
       "      <td>9</td>\n",
       "      <td>2</td>\n",
       "      <td>1</td>\n",
       "      <td>0</td>\n",
       "      <td>29</td>\n",
       "      <td>1</td>\n",
       "      <td>0</td>\n",
       "      <td>2</td>\n",
       "      <td>5</td>\n",
       "      <td>8</td>\n",
       "      <td>151</td>\n",
       "      <td>1</td>\n",
       "      <td>-1</td>\n",
       "      <td>0</td>\n",
       "      <td>3</td>\n",
       "      <td>0</td>\n",
       "    </tr>\n",
       "    <tr>\n",
       "      <th>2</th>\n",
       "      <td>33</td>\n",
       "      <td>2</td>\n",
       "      <td>1</td>\n",
       "      <td>1</td>\n",
       "      <td>0</td>\n",
       "      <td>2</td>\n",
       "      <td>1</td>\n",
       "      <td>1</td>\n",
       "      <td>2</td>\n",
       "      <td>5</td>\n",
       "      <td>8</td>\n",
       "      <td>76</td>\n",
       "      <td>1</td>\n",
       "      <td>-1</td>\n",
       "      <td>0</td>\n",
       "      <td>3</td>\n",
       "      <td>0</td>\n",
       "    </tr>\n",
       "    <tr>\n",
       "      <th>3</th>\n",
       "      <td>47</td>\n",
       "      <td>1</td>\n",
       "      <td>1</td>\n",
       "      <td>3</td>\n",
       "      <td>0</td>\n",
       "      <td>1506</td>\n",
       "      <td>1</td>\n",
       "      <td>0</td>\n",
       "      <td>2</td>\n",
       "      <td>5</td>\n",
       "      <td>8</td>\n",
       "      <td>92</td>\n",
       "      <td>1</td>\n",
       "      <td>-1</td>\n",
       "      <td>0</td>\n",
       "      <td>3</td>\n",
       "      <td>0</td>\n",
       "    </tr>\n",
       "    <tr>\n",
       "      <th>4</th>\n",
       "      <td>33</td>\n",
       "      <td>11</td>\n",
       "      <td>2</td>\n",
       "      <td>3</td>\n",
       "      <td>0</td>\n",
       "      <td>1</td>\n",
       "      <td>0</td>\n",
       "      <td>0</td>\n",
       "      <td>2</td>\n",
       "      <td>5</td>\n",
       "      <td>8</td>\n",
       "      <td>198</td>\n",
       "      <td>1</td>\n",
       "      <td>-1</td>\n",
       "      <td>0</td>\n",
       "      <td>3</td>\n",
       "      <td>0</td>\n",
       "    </tr>\n",
       "    <tr>\n",
       "      <th>...</th>\n",
       "      <td>...</td>\n",
       "      <td>...</td>\n",
       "      <td>...</td>\n",
       "      <td>...</td>\n",
       "      <td>...</td>\n",
       "      <td>...</td>\n",
       "      <td>...</td>\n",
       "      <td>...</td>\n",
       "      <td>...</td>\n",
       "      <td>...</td>\n",
       "      <td>...</td>\n",
       "      <td>...</td>\n",
       "      <td>...</td>\n",
       "      <td>...</td>\n",
       "      <td>...</td>\n",
       "      <td>...</td>\n",
       "      <td>...</td>\n",
       "    </tr>\n",
       "    <tr>\n",
       "      <th>45206</th>\n",
       "      <td>51</td>\n",
       "      <td>9</td>\n",
       "      <td>1</td>\n",
       "      <td>2</td>\n",
       "      <td>0</td>\n",
       "      <td>825</td>\n",
       "      <td>0</td>\n",
       "      <td>0</td>\n",
       "      <td>0</td>\n",
       "      <td>17</td>\n",
       "      <td>9</td>\n",
       "      <td>977</td>\n",
       "      <td>3</td>\n",
       "      <td>-1</td>\n",
       "      <td>0</td>\n",
       "      <td>3</td>\n",
       "      <td>1</td>\n",
       "    </tr>\n",
       "    <tr>\n",
       "      <th>45207</th>\n",
       "      <td>71</td>\n",
       "      <td>5</td>\n",
       "      <td>0</td>\n",
       "      <td>0</td>\n",
       "      <td>0</td>\n",
       "      <td>1729</td>\n",
       "      <td>0</td>\n",
       "      <td>0</td>\n",
       "      <td>0</td>\n",
       "      <td>17</td>\n",
       "      <td>9</td>\n",
       "      <td>456</td>\n",
       "      <td>2</td>\n",
       "      <td>-1</td>\n",
       "      <td>0</td>\n",
       "      <td>3</td>\n",
       "      <td>1</td>\n",
       "    </tr>\n",
       "    <tr>\n",
       "      <th>45208</th>\n",
       "      <td>72</td>\n",
       "      <td>5</td>\n",
       "      <td>1</td>\n",
       "      <td>1</td>\n",
       "      <td>0</td>\n",
       "      <td>5715</td>\n",
       "      <td>0</td>\n",
       "      <td>0</td>\n",
       "      <td>0</td>\n",
       "      <td>17</td>\n",
       "      <td>9</td>\n",
       "      <td>1127</td>\n",
       "      <td>5</td>\n",
       "      <td>184</td>\n",
       "      <td>3</td>\n",
       "      <td>2</td>\n",
       "      <td>1</td>\n",
       "    </tr>\n",
       "    <tr>\n",
       "      <th>45209</th>\n",
       "      <td>57</td>\n",
       "      <td>1</td>\n",
       "      <td>1</td>\n",
       "      <td>1</td>\n",
       "      <td>0</td>\n",
       "      <td>668</td>\n",
       "      <td>0</td>\n",
       "      <td>0</td>\n",
       "      <td>1</td>\n",
       "      <td>17</td>\n",
       "      <td>9</td>\n",
       "      <td>508</td>\n",
       "      <td>4</td>\n",
       "      <td>-1</td>\n",
       "      <td>0</td>\n",
       "      <td>3</td>\n",
       "      <td>0</td>\n",
       "    </tr>\n",
       "    <tr>\n",
       "      <th>45210</th>\n",
       "      <td>37</td>\n",
       "      <td>2</td>\n",
       "      <td>1</td>\n",
       "      <td>1</td>\n",
       "      <td>0</td>\n",
       "      <td>2971</td>\n",
       "      <td>0</td>\n",
       "      <td>0</td>\n",
       "      <td>0</td>\n",
       "      <td>17</td>\n",
       "      <td>9</td>\n",
       "      <td>361</td>\n",
       "      <td>2</td>\n",
       "      <td>188</td>\n",
       "      <td>11</td>\n",
       "      <td>1</td>\n",
       "      <td>0</td>\n",
       "    </tr>\n",
       "  </tbody>\n",
       "</table>\n",
       "<p>45211 rows × 17 columns</p>\n",
       "</div>"
      ],
      "text/plain": [
       "       age  job  marital  education  default  balance  housing  loan  contact   \n",
       "0       58    4        1          2        0     2143        1     0        2  \\\n",
       "1       44    9        2          1        0       29        1     0        2   \n",
       "2       33    2        1          1        0        2        1     1        2   \n",
       "3       47    1        1          3        0     1506        1     0        2   \n",
       "4       33   11        2          3        0        1        0     0        2   \n",
       "...    ...  ...      ...        ...      ...      ...      ...   ...      ...   \n",
       "45206   51    9        1          2        0      825        0     0        0   \n",
       "45207   71    5        0          0        0     1729        0     0        0   \n",
       "45208   72    5        1          1        0     5715        0     0        0   \n",
       "45209   57    1        1          1        0      668        0     0        1   \n",
       "45210   37    2        1          1        0     2971        0     0        0   \n",
       "\n",
       "       day  month  duration  campaign  pdays  previous  poutcome   \n",
       "0        5      8       261         1     -1         0         3  \\\n",
       "1        5      8       151         1     -1         0         3   \n",
       "2        5      8        76         1     -1         0         3   \n",
       "3        5      8        92         1     -1         0         3   \n",
       "4        5      8       198         1     -1         0         3   \n",
       "...    ...    ...       ...       ...    ...       ...       ...   \n",
       "45206   17      9       977         3     -1         0         3   \n",
       "45207   17      9       456         2     -1         0         3   \n",
       "45208   17      9      1127         5    184         3         2   \n",
       "45209   17      9       508         4     -1         0         3   \n",
       "45210   17      9       361         2    188        11         1   \n",
       "\n",
       "       Client_Subscribed  \n",
       "0                      0  \n",
       "1                      0  \n",
       "2                      0  \n",
       "3                      0  \n",
       "4                      0  \n",
       "...                  ...  \n",
       "45206                  1  \n",
       "45207                  1  \n",
       "45208                  1  \n",
       "45209                  0  \n",
       "45210                  0  \n",
       "\n",
       "[45211 rows x 17 columns]"
      ]
     },
     "execution_count": 36,
     "metadata": {},
     "output_type": "execute_result"
    }
   ],
   "source": [
    "df_new"
   ]
  },
  {
   "cell_type": "code",
   "execution_count": 37,
   "id": "d06df255",
   "metadata": {},
   "outputs": [
    {
     "name": "stdout",
     "output_type": "stream",
     "text": [
      "<class 'pandas.core.frame.DataFrame'>\n",
      "RangeIndex: 45211 entries, 0 to 45210\n",
      "Data columns (total 17 columns):\n",
      " #   Column             Non-Null Count  Dtype\n",
      "---  ------             --------------  -----\n",
      " 0   age                45211 non-null  int64\n",
      " 1   job                45211 non-null  int32\n",
      " 2   marital            45211 non-null  int32\n",
      " 3   education          45211 non-null  int32\n",
      " 4   default            45211 non-null  int32\n",
      " 5   balance            45211 non-null  int64\n",
      " 6   housing            45211 non-null  int32\n",
      " 7   loan               45211 non-null  int32\n",
      " 8   contact            45211 non-null  int32\n",
      " 9   day                45211 non-null  int64\n",
      " 10  month              45211 non-null  int32\n",
      " 11  duration           45211 non-null  int64\n",
      " 12  campaign           45211 non-null  int64\n",
      " 13  pdays              45211 non-null  int64\n",
      " 14  previous           45211 non-null  int64\n",
      " 15  poutcome           45211 non-null  int32\n",
      " 16  Client_Subscribed  45211 non-null  int32\n",
      "dtypes: int32(10), int64(7)\n",
      "memory usage: 4.1 MB\n"
     ]
    }
   ],
   "source": [
    "df_new.info()"
   ]
  },
  {
   "cell_type": "code",
   "execution_count": 38,
   "id": "9c75bce5",
   "metadata": {},
   "outputs": [
    {
     "data": {
      "text/plain": [
       "Client_Subscribed\n",
       "0    39922\n",
       "1     5289\n",
       "Name: count, dtype: int64"
      ]
     },
     "execution_count": 38,
     "metadata": {},
     "output_type": "execute_result"
    }
   ],
   "source": [
    "df_new['Client_Subscribed'].value_counts()"
   ]
  },
  {
   "cell_type": "markdown",
   "id": "81334017",
   "metadata": {},
   "source": [
    "Pada tugas ini, saya menggunakan kolom **Client_Subscribed** untuk menjadi **Y**, karena merupakan kolom yang hanya bernilai 0 (false) atau 1 (true).<br>\n",
    "Bisa dilihat bahwa datanya sangat berbeda jauh antara 0 = no, dan 1 = yes. Oleh karena itu, mari kita lakukan balancing dengan menggunakan metode **Undersampling**"
   ]
  },
  {
   "cell_type": "markdown",
   "id": "5b7bdc64",
   "metadata": {},
   "source": [
    "# G. UNDERSAMPLING\n",
    "Undersampling adalah menyeimbangkan dataset dengan mengurangi ukuran kelas yang berlimpah. Pada kasus ini, saya akan membuat dataset menjadi 5289."
   ]
  },
  {
   "cell_type": "code",
   "execution_count": 39,
   "id": "486db799",
   "metadata": {},
   "outputs": [
    {
     "data": {
      "text/html": [
       "<div>\n",
       "<style scoped>\n",
       "    .dataframe tbody tr th:only-of-type {\n",
       "        vertical-align: middle;\n",
       "    }\n",
       "\n",
       "    .dataframe tbody tr th {\n",
       "        vertical-align: top;\n",
       "    }\n",
       "\n",
       "    .dataframe thead th {\n",
       "        text-align: right;\n",
       "    }\n",
       "</style>\n",
       "<table border=\"1\" class=\"dataframe\">\n",
       "  <thead>\n",
       "    <tr style=\"text-align: right;\">\n",
       "      <th></th>\n",
       "      <th>age</th>\n",
       "      <th>job</th>\n",
       "      <th>marital</th>\n",
       "      <th>education</th>\n",
       "      <th>default</th>\n",
       "      <th>balance</th>\n",
       "      <th>housing</th>\n",
       "      <th>loan</th>\n",
       "      <th>contact</th>\n",
       "      <th>day</th>\n",
       "      <th>month</th>\n",
       "      <th>duration</th>\n",
       "      <th>campaign</th>\n",
       "      <th>pdays</th>\n",
       "      <th>previous</th>\n",
       "      <th>poutcome</th>\n",
       "      <th>Client_Subscribed</th>\n",
       "    </tr>\n",
       "  </thead>\n",
       "  <tbody>\n",
       "    <tr>\n",
       "      <th>16514</th>\n",
       "      <td>42</td>\n",
       "      <td>9</td>\n",
       "      <td>2</td>\n",
       "      <td>1</td>\n",
       "      <td>0</td>\n",
       "      <td>2646</td>\n",
       "      <td>1</td>\n",
       "      <td>0</td>\n",
       "      <td>0</td>\n",
       "      <td>23</td>\n",
       "      <td>5</td>\n",
       "      <td>280</td>\n",
       "      <td>4</td>\n",
       "      <td>-1</td>\n",
       "      <td>0</td>\n",
       "      <td>3</td>\n",
       "      <td>0</td>\n",
       "    </tr>\n",
       "    <tr>\n",
       "      <th>876</th>\n",
       "      <td>37</td>\n",
       "      <td>11</td>\n",
       "      <td>2</td>\n",
       "      <td>3</td>\n",
       "      <td>0</td>\n",
       "      <td>414</td>\n",
       "      <td>1</td>\n",
       "      <td>0</td>\n",
       "      <td>2</td>\n",
       "      <td>7</td>\n",
       "      <td>8</td>\n",
       "      <td>131</td>\n",
       "      <td>1</td>\n",
       "      <td>-1</td>\n",
       "      <td>0</td>\n",
       "      <td>3</td>\n",
       "      <td>0</td>\n",
       "    </tr>\n",
       "    <tr>\n",
       "      <th>41667</th>\n",
       "      <td>54</td>\n",
       "      <td>4</td>\n",
       "      <td>2</td>\n",
       "      <td>2</td>\n",
       "      <td>0</td>\n",
       "      <td>2081</td>\n",
       "      <td>0</td>\n",
       "      <td>0</td>\n",
       "      <td>0</td>\n",
       "      <td>1</td>\n",
       "      <td>10</td>\n",
       "      <td>395</td>\n",
       "      <td>2</td>\n",
       "      <td>108</td>\n",
       "      <td>1</td>\n",
       "      <td>0</td>\n",
       "      <td>0</td>\n",
       "    </tr>\n",
       "    <tr>\n",
       "      <th>11710</th>\n",
       "      <td>58</td>\n",
       "      <td>9</td>\n",
       "      <td>1</td>\n",
       "      <td>1</td>\n",
       "      <td>0</td>\n",
       "      <td>683</td>\n",
       "      <td>0</td>\n",
       "      <td>0</td>\n",
       "      <td>2</td>\n",
       "      <td>20</td>\n",
       "      <td>6</td>\n",
       "      <td>157</td>\n",
       "      <td>2</td>\n",
       "      <td>-1</td>\n",
       "      <td>0</td>\n",
       "      <td>3</td>\n",
       "      <td>0</td>\n",
       "    </tr>\n",
       "    <tr>\n",
       "      <th>6465</th>\n",
       "      <td>30</td>\n",
       "      <td>4</td>\n",
       "      <td>1</td>\n",
       "      <td>1</td>\n",
       "      <td>0</td>\n",
       "      <td>-397</td>\n",
       "      <td>1</td>\n",
       "      <td>0</td>\n",
       "      <td>2</td>\n",
       "      <td>27</td>\n",
       "      <td>8</td>\n",
       "      <td>141</td>\n",
       "      <td>3</td>\n",
       "      <td>-1</td>\n",
       "      <td>0</td>\n",
       "      <td>3</td>\n",
       "      <td>0</td>\n",
       "    </tr>\n",
       "    <tr>\n",
       "      <th>...</th>\n",
       "      <td>...</td>\n",
       "      <td>...</td>\n",
       "      <td>...</td>\n",
       "      <td>...</td>\n",
       "      <td>...</td>\n",
       "      <td>...</td>\n",
       "      <td>...</td>\n",
       "      <td>...</td>\n",
       "      <td>...</td>\n",
       "      <td>...</td>\n",
       "      <td>...</td>\n",
       "      <td>...</td>\n",
       "      <td>...</td>\n",
       "      <td>...</td>\n",
       "      <td>...</td>\n",
       "      <td>...</td>\n",
       "      <td>...</td>\n",
       "    </tr>\n",
       "    <tr>\n",
       "      <th>45204</th>\n",
       "      <td>73</td>\n",
       "      <td>5</td>\n",
       "      <td>1</td>\n",
       "      <td>1</td>\n",
       "      <td>0</td>\n",
       "      <td>2850</td>\n",
       "      <td>0</td>\n",
       "      <td>0</td>\n",
       "      <td>0</td>\n",
       "      <td>17</td>\n",
       "      <td>9</td>\n",
       "      <td>300</td>\n",
       "      <td>1</td>\n",
       "      <td>40</td>\n",
       "      <td>8</td>\n",
       "      <td>0</td>\n",
       "      <td>1</td>\n",
       "    </tr>\n",
       "    <tr>\n",
       "      <th>45205</th>\n",
       "      <td>25</td>\n",
       "      <td>9</td>\n",
       "      <td>2</td>\n",
       "      <td>1</td>\n",
       "      <td>0</td>\n",
       "      <td>505</td>\n",
       "      <td>0</td>\n",
       "      <td>1</td>\n",
       "      <td>0</td>\n",
       "      <td>17</td>\n",
       "      <td>9</td>\n",
       "      <td>386</td>\n",
       "      <td>2</td>\n",
       "      <td>-1</td>\n",
       "      <td>0</td>\n",
       "      <td>3</td>\n",
       "      <td>1</td>\n",
       "    </tr>\n",
       "    <tr>\n",
       "      <th>45206</th>\n",
       "      <td>51</td>\n",
       "      <td>9</td>\n",
       "      <td>1</td>\n",
       "      <td>2</td>\n",
       "      <td>0</td>\n",
       "      <td>825</td>\n",
       "      <td>0</td>\n",
       "      <td>0</td>\n",
       "      <td>0</td>\n",
       "      <td>17</td>\n",
       "      <td>9</td>\n",
       "      <td>977</td>\n",
       "      <td>3</td>\n",
       "      <td>-1</td>\n",
       "      <td>0</td>\n",
       "      <td>3</td>\n",
       "      <td>1</td>\n",
       "    </tr>\n",
       "    <tr>\n",
       "      <th>45207</th>\n",
       "      <td>71</td>\n",
       "      <td>5</td>\n",
       "      <td>0</td>\n",
       "      <td>0</td>\n",
       "      <td>0</td>\n",
       "      <td>1729</td>\n",
       "      <td>0</td>\n",
       "      <td>0</td>\n",
       "      <td>0</td>\n",
       "      <td>17</td>\n",
       "      <td>9</td>\n",
       "      <td>456</td>\n",
       "      <td>2</td>\n",
       "      <td>-1</td>\n",
       "      <td>0</td>\n",
       "      <td>3</td>\n",
       "      <td>1</td>\n",
       "    </tr>\n",
       "    <tr>\n",
       "      <th>45208</th>\n",
       "      <td>72</td>\n",
       "      <td>5</td>\n",
       "      <td>1</td>\n",
       "      <td>1</td>\n",
       "      <td>0</td>\n",
       "      <td>5715</td>\n",
       "      <td>0</td>\n",
       "      <td>0</td>\n",
       "      <td>0</td>\n",
       "      <td>17</td>\n",
       "      <td>9</td>\n",
       "      <td>1127</td>\n",
       "      <td>5</td>\n",
       "      <td>184</td>\n",
       "      <td>3</td>\n",
       "      <td>2</td>\n",
       "      <td>1</td>\n",
       "    </tr>\n",
       "  </tbody>\n",
       "</table>\n",
       "<p>10578 rows × 17 columns</p>\n",
       "</div>"
      ],
      "text/plain": [
       "       age  job  marital  education  default  balance  housing  loan  contact   \n",
       "16514   42    9        2          1        0     2646        1     0        0  \\\n",
       "876     37   11        2          3        0      414        1     0        2   \n",
       "41667   54    4        2          2        0     2081        0     0        0   \n",
       "11710   58    9        1          1        0      683        0     0        2   \n",
       "6465    30    4        1          1        0     -397        1     0        2   \n",
       "...    ...  ...      ...        ...      ...      ...      ...   ...      ...   \n",
       "45204   73    5        1          1        0     2850        0     0        0   \n",
       "45205   25    9        2          1        0      505        0     1        0   \n",
       "45206   51    9        1          2        0      825        0     0        0   \n",
       "45207   71    5        0          0        0     1729        0     0        0   \n",
       "45208   72    5        1          1        0     5715        0     0        0   \n",
       "\n",
       "       day  month  duration  campaign  pdays  previous  poutcome   \n",
       "16514   23      5       280         4     -1         0         3  \\\n",
       "876      7      8       131         1     -1         0         3   \n",
       "41667    1     10       395         2    108         1         0   \n",
       "11710   20      6       157         2     -1         0         3   \n",
       "6465    27      8       141         3     -1         0         3   \n",
       "...    ...    ...       ...       ...    ...       ...       ...   \n",
       "45204   17      9       300         1     40         8         0   \n",
       "45205   17      9       386         2     -1         0         3   \n",
       "45206   17      9       977         3     -1         0         3   \n",
       "45207   17      9       456         2     -1         0         3   \n",
       "45208   17      9      1127         5    184         3         2   \n",
       "\n",
       "       Client_Subscribed  \n",
       "16514                  0  \n",
       "876                    0  \n",
       "41667                  0  \n",
       "11710                  0  \n",
       "6465                   0  \n",
       "...                  ...  \n",
       "45204                  1  \n",
       "45205                  1  \n",
       "45206                  1  \n",
       "45207                  1  \n",
       "45208                  1  \n",
       "\n",
       "[10578 rows x 17 columns]"
      ]
     },
     "execution_count": 39,
     "metadata": {},
     "output_type": "execute_result"
    }
   ],
   "source": [
    "from sklearn.utils import resample\n",
    "#create two different dataframe of majority and minority class \n",
    "df_majority = df_new[(df_new['Client_Subscribed']==0)] \n",
    "df_minority = df_new[(df_new['Client_Subscribed']==1)] \n",
    "# upsample minority class\n",
    "df_majority_undersampling = resample(df_majority, replace = True, n_samples = 5289, random_state = 42)\n",
    "# Combine majority class with upsampled minority class\n",
    "df_undersampling = pd.concat([df_majority_undersampling, df_minority]) \n",
    "df_undersampling"
   ]
  },
  {
   "cell_type": "code",
   "execution_count": 40,
   "id": "027f79a2",
   "metadata": {},
   "outputs": [
    {
     "data": {
      "text/plain": [
       "Client_Subscribed\n",
       "0    5289\n",
       "1    5289\n",
       "Name: count, dtype: int64"
      ]
     },
     "execution_count": 40,
     "metadata": {},
     "output_type": "execute_result"
    }
   ],
   "source": [
    "df_undersampling['Client_Subscribed'].value_counts()"
   ]
  },
  {
   "cell_type": "markdown",
   "id": "178f3f69",
   "metadata": {},
   "source": [
    "Bisa dilihat bahwa datanya sudah menyesuaikan nilai minoritas atau dalam hal ini sebanyak 5289. Next kita lanjut standarisasi dan modelling."
   ]
  },
  {
   "cell_type": "markdown",
   "id": "8300ddb4",
   "metadata": {},
   "source": [
    "# H. Standarisasi data\n",
    "Standarisasi data dilakukan untuk menyeragamkan nilai-nilai data yang pada penginputannya formatnya tidak konsisten menggunakan suatu format tertentu, hingga seluruh data menjadi standar. "
   ]
  },
  {
   "cell_type": "code",
   "execution_count": 41,
   "id": "2acc173d",
   "metadata": {},
   "outputs": [],
   "source": [
    "#Membuat objek StandardScaler utuk melakukan scaling pada setiap kolom numerik\n",
    "scaler = preprocessing.StandardScaler()\n",
    "\n",
    "#Copy data frame df_new dan simpan pada scale_df\n",
    "scale_df = df_undersampling.copy()\n",
    "\n",
    "#Setiap kolom diubah nilainya dengan method fit_trasnform() dan hasilnya disimpan pada numeric_df\n",
    "numeric_df = df_undersampling.select_dtypes(include=['int64','float64','int32'])\n",
    "for column in numeric_df.columns:\n",
    "  scale_df[column] = scaler.fit_transform(df_undersampling[column].values.reshape(-1,1))"
   ]
  },
  {
   "cell_type": "code",
   "execution_count": 42,
   "id": "df29ba82",
   "metadata": {},
   "outputs": [
    {
     "data": {
      "text/html": [
       "<div>\n",
       "<style scoped>\n",
       "    .dataframe tbody tr th:only-of-type {\n",
       "        vertical-align: middle;\n",
       "    }\n",
       "\n",
       "    .dataframe tbody tr th {\n",
       "        vertical-align: top;\n",
       "    }\n",
       "\n",
       "    .dataframe thead th {\n",
       "        text-align: right;\n",
       "    }\n",
       "</style>\n",
       "<table border=\"1\" class=\"dataframe\">\n",
       "  <thead>\n",
       "    <tr style=\"text-align: right;\">\n",
       "      <th></th>\n",
       "      <th>age</th>\n",
       "      <th>job</th>\n",
       "      <th>marital</th>\n",
       "      <th>education</th>\n",
       "      <th>default</th>\n",
       "      <th>balance</th>\n",
       "      <th>housing</th>\n",
       "      <th>loan</th>\n",
       "      <th>contact</th>\n",
       "      <th>day</th>\n",
       "      <th>month</th>\n",
       "      <th>duration</th>\n",
       "      <th>campaign</th>\n",
       "      <th>pdays</th>\n",
       "      <th>previous</th>\n",
       "      <th>poutcome</th>\n",
       "      <th>Client_Subscribed</th>\n",
       "    </tr>\n",
       "  </thead>\n",
       "  <tbody>\n",
       "    <tr>\n",
       "      <th>16514</th>\n",
       "      <td>0.053404</td>\n",
       "      <td>1.397834</td>\n",
       "      <td>1.271204</td>\n",
       "      <td>-0.390782</td>\n",
       "      <td>-0.119529</td>\n",
       "      <td>0.340521</td>\n",
       "      <td>1.065478</td>\n",
       "      <td>-0.386210</td>\n",
       "      <td>-0.588447</td>\n",
       "      <td>0.892191</td>\n",
       "      <td>-0.137454</td>\n",
       "      <td>-0.282314</td>\n",
       "      <td>0.587816</td>\n",
       "      <td>-0.488503</td>\n",
       "      <td>-0.379111</td>\n",
       "      <td>0.527119</td>\n",
       "      <td>-1.0</td>\n",
       "    </tr>\n",
       "    <tr>\n",
       "      <th>876</th>\n",
       "      <td>-0.363998</td>\n",
       "      <td>2.018676</td>\n",
       "      <td>1.271204</td>\n",
       "      <td>2.285613</td>\n",
       "      <td>-0.119529</td>\n",
       "      <td>-0.347588</td>\n",
       "      <td>1.065478</td>\n",
       "      <td>-0.386210</td>\n",
       "      <td>1.870893</td>\n",
       "      <td>-1.015405</td>\n",
       "      <td>0.800804</td>\n",
       "      <td>-0.707775</td>\n",
       "      <td>-0.567358</td>\n",
       "      <td>-0.488503</td>\n",
       "      <td>-0.379111</td>\n",
       "      <td>0.527119</td>\n",
       "      <td>-1.0</td>\n",
       "    </tr>\n",
       "    <tr>\n",
       "      <th>41667</th>\n",
       "      <td>1.055171</td>\n",
       "      <td>-0.154271</td>\n",
       "      <td>1.271204</td>\n",
       "      <td>0.947416</td>\n",
       "      <td>-0.119529</td>\n",
       "      <td>0.166335</td>\n",
       "      <td>-0.938546</td>\n",
       "      <td>-0.386210</td>\n",
       "      <td>-0.588447</td>\n",
       "      <td>-1.730754</td>\n",
       "      <td>1.426309</td>\n",
       "      <td>0.046062</td>\n",
       "      <td>-0.182300</td>\n",
       "      <td>0.506320</td>\n",
       "      <td>0.073921</td>\n",
       "      <td>-2.439291</td>\n",
       "      <td>-1.0</td>\n",
       "    </tr>\n",
       "    <tr>\n",
       "      <th>11710</th>\n",
       "      <td>1.389093</td>\n",
       "      <td>1.397834</td>\n",
       "      <td>-0.319568</td>\n",
       "      <td>-0.390782</td>\n",
       "      <td>-0.119529</td>\n",
       "      <td>-0.264657</td>\n",
       "      <td>-0.938546</td>\n",
       "      <td>-0.386210</td>\n",
       "      <td>1.870893</td>\n",
       "      <td>0.534516</td>\n",
       "      <td>0.175299</td>\n",
       "      <td>-0.633533</td>\n",
       "      <td>-0.182300</td>\n",
       "      <td>-0.488503</td>\n",
       "      <td>-0.379111</td>\n",
       "      <td>0.527119</td>\n",
       "      <td>-1.0</td>\n",
       "    </tr>\n",
       "    <tr>\n",
       "      <th>6465</th>\n",
       "      <td>-0.948362</td>\n",
       "      <td>-0.154271</td>\n",
       "      <td>-0.319568</td>\n",
       "      <td>-0.390782</td>\n",
       "      <td>-0.119529</td>\n",
       "      <td>-0.597613</td>\n",
       "      <td>1.065478</td>\n",
       "      <td>-0.386210</td>\n",
       "      <td>1.870893</td>\n",
       "      <td>1.369090</td>\n",
       "      <td>0.800804</td>\n",
       "      <td>-0.679220</td>\n",
       "      <td>0.202758</td>\n",
       "      <td>-0.488503</td>\n",
       "      <td>-0.379111</td>\n",
       "      <td>0.527119</td>\n",
       "      <td>-1.0</td>\n",
       "    </tr>\n",
       "    <tr>\n",
       "      <th>...</th>\n",
       "      <td>...</td>\n",
       "      <td>...</td>\n",
       "      <td>...</td>\n",
       "      <td>...</td>\n",
       "      <td>...</td>\n",
       "      <td>...</td>\n",
       "      <td>...</td>\n",
       "      <td>...</td>\n",
       "      <td>...</td>\n",
       "      <td>...</td>\n",
       "      <td>...</td>\n",
       "      <td>...</td>\n",
       "      <td>...</td>\n",
       "      <td>...</td>\n",
       "      <td>...</td>\n",
       "      <td>...</td>\n",
       "      <td>...</td>\n",
       "    </tr>\n",
       "    <tr>\n",
       "      <th>45204</th>\n",
       "      <td>2.641300</td>\n",
       "      <td>0.156150</td>\n",
       "      <td>-0.319568</td>\n",
       "      <td>-0.390782</td>\n",
       "      <td>-0.119529</td>\n",
       "      <td>0.403412</td>\n",
       "      <td>-0.938546</td>\n",
       "      <td>-0.386210</td>\n",
       "      <td>-0.588447</td>\n",
       "      <td>0.176842</td>\n",
       "      <td>1.113557</td>\n",
       "      <td>-0.225205</td>\n",
       "      <td>-0.567358</td>\n",
       "      <td>-0.114303</td>\n",
       "      <td>3.245138</td>\n",
       "      <td>-2.439291</td>\n",
       "      <td>1.0</td>\n",
       "    </tr>\n",
       "    <tr>\n",
       "      <th>45205</th>\n",
       "      <td>-1.365764</td>\n",
       "      <td>1.397834</td>\n",
       "      <td>1.271204</td>\n",
       "      <td>-0.390782</td>\n",
       "      <td>-0.119529</td>\n",
       "      <td>-0.319533</td>\n",
       "      <td>-0.938546</td>\n",
       "      <td>2.589266</td>\n",
       "      <td>-0.588447</td>\n",
       "      <td>0.176842</td>\n",
       "      <td>1.113557</td>\n",
       "      <td>0.020363</td>\n",
       "      <td>-0.182300</td>\n",
       "      <td>-0.488503</td>\n",
       "      <td>-0.379111</td>\n",
       "      <td>0.527119</td>\n",
       "      <td>1.0</td>\n",
       "    </tr>\n",
       "    <tr>\n",
       "      <th>45206</th>\n",
       "      <td>0.804729</td>\n",
       "      <td>1.397834</td>\n",
       "      <td>-0.319568</td>\n",
       "      <td>0.947416</td>\n",
       "      <td>-0.119529</td>\n",
       "      <td>-0.220880</td>\n",
       "      <td>-0.938546</td>\n",
       "      <td>-0.386210</td>\n",
       "      <td>-0.588447</td>\n",
       "      <td>0.176842</td>\n",
       "      <td>1.113557</td>\n",
       "      <td>1.707929</td>\n",
       "      <td>0.202758</td>\n",
       "      <td>-0.488503</td>\n",
       "      <td>-0.379111</td>\n",
       "      <td>0.527119</td>\n",
       "      <td>1.0</td>\n",
       "    </tr>\n",
       "    <tr>\n",
       "      <th>45207</th>\n",
       "      <td>2.474339</td>\n",
       "      <td>0.156150</td>\n",
       "      <td>-1.910340</td>\n",
       "      <td>-1.728980</td>\n",
       "      <td>-0.119529</td>\n",
       "      <td>0.057817</td>\n",
       "      <td>-0.938546</td>\n",
       "      <td>-0.386210</td>\n",
       "      <td>-0.588447</td>\n",
       "      <td>0.176842</td>\n",
       "      <td>1.113557</td>\n",
       "      <td>0.220244</td>\n",
       "      <td>-0.182300</td>\n",
       "      <td>-0.488503</td>\n",
       "      <td>-0.379111</td>\n",
       "      <td>0.527119</td>\n",
       "      <td>1.0</td>\n",
       "    </tr>\n",
       "    <tr>\n",
       "      <th>45208</th>\n",
       "      <td>2.557820</td>\n",
       "      <td>0.156150</td>\n",
       "      <td>-0.319568</td>\n",
       "      <td>-0.390782</td>\n",
       "      <td>-0.119529</td>\n",
       "      <td>1.286669</td>\n",
       "      <td>-0.938546</td>\n",
       "      <td>-0.386210</td>\n",
       "      <td>-0.588447</td>\n",
       "      <td>0.176842</td>\n",
       "      <td>1.113557</td>\n",
       "      <td>2.136245</td>\n",
       "      <td>0.972874</td>\n",
       "      <td>1.199958</td>\n",
       "      <td>0.979983</td>\n",
       "      <td>-0.461685</td>\n",
       "      <td>1.0</td>\n",
       "    </tr>\n",
       "  </tbody>\n",
       "</table>\n",
       "<p>10578 rows × 17 columns</p>\n",
       "</div>"
      ],
      "text/plain": [
       "            age       job   marital  education   default   balance   housing   \n",
       "16514  0.053404  1.397834  1.271204  -0.390782 -0.119529  0.340521  1.065478  \\\n",
       "876   -0.363998  2.018676  1.271204   2.285613 -0.119529 -0.347588  1.065478   \n",
       "41667  1.055171 -0.154271  1.271204   0.947416 -0.119529  0.166335 -0.938546   \n",
       "11710  1.389093  1.397834 -0.319568  -0.390782 -0.119529 -0.264657 -0.938546   \n",
       "6465  -0.948362 -0.154271 -0.319568  -0.390782 -0.119529 -0.597613  1.065478   \n",
       "...         ...       ...       ...        ...       ...       ...       ...   \n",
       "45204  2.641300  0.156150 -0.319568  -0.390782 -0.119529  0.403412 -0.938546   \n",
       "45205 -1.365764  1.397834  1.271204  -0.390782 -0.119529 -0.319533 -0.938546   \n",
       "45206  0.804729  1.397834 -0.319568   0.947416 -0.119529 -0.220880 -0.938546   \n",
       "45207  2.474339  0.156150 -1.910340  -1.728980 -0.119529  0.057817 -0.938546   \n",
       "45208  2.557820  0.156150 -0.319568  -0.390782 -0.119529  1.286669 -0.938546   \n",
       "\n",
       "           loan   contact       day     month  duration  campaign     pdays   \n",
       "16514 -0.386210 -0.588447  0.892191 -0.137454 -0.282314  0.587816 -0.488503  \\\n",
       "876   -0.386210  1.870893 -1.015405  0.800804 -0.707775 -0.567358 -0.488503   \n",
       "41667 -0.386210 -0.588447 -1.730754  1.426309  0.046062 -0.182300  0.506320   \n",
       "11710 -0.386210  1.870893  0.534516  0.175299 -0.633533 -0.182300 -0.488503   \n",
       "6465  -0.386210  1.870893  1.369090  0.800804 -0.679220  0.202758 -0.488503   \n",
       "...         ...       ...       ...       ...       ...       ...       ...   \n",
       "45204 -0.386210 -0.588447  0.176842  1.113557 -0.225205 -0.567358 -0.114303   \n",
       "45205  2.589266 -0.588447  0.176842  1.113557  0.020363 -0.182300 -0.488503   \n",
       "45206 -0.386210 -0.588447  0.176842  1.113557  1.707929  0.202758 -0.488503   \n",
       "45207 -0.386210 -0.588447  0.176842  1.113557  0.220244 -0.182300 -0.488503   \n",
       "45208 -0.386210 -0.588447  0.176842  1.113557  2.136245  0.972874  1.199958   \n",
       "\n",
       "       previous  poutcome  Client_Subscribed  \n",
       "16514 -0.379111  0.527119               -1.0  \n",
       "876   -0.379111  0.527119               -1.0  \n",
       "41667  0.073921 -2.439291               -1.0  \n",
       "11710 -0.379111  0.527119               -1.0  \n",
       "6465  -0.379111  0.527119               -1.0  \n",
       "...         ...       ...                ...  \n",
       "45204  3.245138 -2.439291                1.0  \n",
       "45205 -0.379111  0.527119                1.0  \n",
       "45206 -0.379111  0.527119                1.0  \n",
       "45207 -0.379111  0.527119                1.0  \n",
       "45208  0.979983 -0.461685                1.0  \n",
       "\n",
       "[10578 rows x 17 columns]"
      ]
     },
     "execution_count": 42,
     "metadata": {},
     "output_type": "execute_result"
    }
   ],
   "source": [
    "scale_df"
   ]
  },
  {
   "cell_type": "code",
   "execution_count": 43,
   "id": "28b4ede5",
   "metadata": {},
   "outputs": [
    {
     "data": {
      "image/png": "[encoded data removed]",
      "text/plain": [
       "<Figure size 4000x1700 with 2 Axes>"
      ]
     },
     "metadata": {},
     "output_type": "display_data"
    }
   ],
   "source": [
    "plt.figure(figsize=(40, 17))\n",
    "ax = sns.heatmap(scale_df.corr(),annot=True, cmap='Blues', linewidths=.5, linecolor='black', square=True)"
   ]
  },
  {
   "cell_type": "markdown",
   "id": "11bacd37",
   "metadata": {},
   "source": [
    "# I. Model di Machine Learning\n",
    "\n",
    "Model yang kita buat akan ada 7, diantaranya: \n",
    "1. Logistic Regression\n",
    "2. K-Nearest Neighbour\n",
    "3. Support Vector Machine\n",
    "4. Decision Tree\n",
    "5. Random Forest\n",
    "6. Naive Bayes\n",
    "7. Confusion Matrix\n",
    "\n",
    "**Catatan:**<br>\n",
    "Dalam memodelkan, gunakan df_undersampling ya! Karena datanya sudah melalui proses undersampling."
   ]
  },
  {
   "cell_type": "code",
   "execution_count": 37,
   "id": "306a2287",
   "metadata": {},
   "outputs": [
    {
     "name": "stdout",
     "output_type": "stream",
     "text": [
      "- rows in dataframe 10578\n",
      "- rows missing age: 0\n",
      "- rows missing job: 1239\n",
      "- rows missing marital: 1241\n",
      "- rows missing education: 1384\n",
      "- rows missing default: 10429\n",
      "- rows missing balance: 732\n",
      "- rows missing housing: 5624\n",
      "- rows missing loan: 9205\n",
      "- rows missing contact: 7694\n",
      "- rows missing day: 0\n",
      "- rows missing month: 869\n",
      "- rows missing duration: 1\n",
      "- rows missing campaign: 0\n",
      "- rows missing pdays: 0\n",
      "- rows missing previous: 7831\n",
      "- rows missing poutcome: 1199\n"
     ]
    }
   ],
   "source": [
    "# Melihat jumlah 0 pada masing-masing kolom\n",
    "print(\"- rows in dataframe {0}\".format(len(df_undersampling)))\n",
    "print(\"- rows missing age: {0}\".format(len(df_undersampling.loc[df_undersampling['age'] == 0])))\n",
    "print(\"- rows missing job: {0}\".format(len(df_undersampling.loc[df_undersampling['job'] == 0])))\n",
    "print(\"- rows missing marital: {0}\".format(len(df_undersampling.loc[df_undersampling['marital'] == 0])))\n",
    "print(\"- rows missing education: {0}\".format(len(df_undersampling.loc[df_undersampling['education'] == 0])))\n",
    "print(\"- rows missing default: {0}\".format(len(df_undersampling.loc[df_undersampling['default'] == 0])))\n",
    "print(\"- rows missing balance: {0}\".format(len(df_undersampling.loc[df_undersampling['balance'] == 0])))\n",
    "print(\"- rows missing housing: {0}\".format(len(df_undersampling.loc[df_undersampling['housing'] == 0])))\n",
    "print(\"- rows missing loan: {0}\".format(len(df_undersampling.loc[df_undersampling['loan'] == 0])))\n",
    "print(\"- rows missing contact: {0}\".format(len(df_undersampling.loc[df_undersampling['contact'] == 0])))\n",
    "print(\"- rows missing day: {0}\".format(len(df_undersampling.loc[df_undersampling['day'] == 0])))\n",
    "print(\"- rows missing month: {0}\".format(len(df_undersampling.loc[df_undersampling['month'] == 0])))\n",
    "print(\"- rows missing duration: {0}\".format(len(df_undersampling.loc[df_undersampling['duration'] == 0])))\n",
    "print(\"- rows missing campaign: {0}\".format(len(df_undersampling.loc[df_undersampling['campaign'] == 0])))\n",
    "print(\"- rows missing pdays: {0}\".format(len(df_undersampling.loc[df_undersampling['pdays'] == 0])))\n",
    "print(\"- rows missing previous: {0}\".format(len(df_undersampling.loc[df_undersampling['previous'] == 0])))\n",
    "print(\"- rows missing poutcome: {0}\".format(len(df_undersampling.loc[df_undersampling['poutcome'] == 0])))"
   ]
  },
  {
   "cell_type": "markdown",
   "id": "cb6feefd",
   "metadata": {},
   "source": [
    "Ternyata ada banyak data yang memiliki 0 value, apakah kita bisa melanjutkan ini? Sebenarnya kita bisa mengisi row yang kosong dengan beberapa cara, karena disini total data ada 10.578 tapi missing value paling banyak yaitu default ada 10.429, jadi saya akan **tidak mengikutsertakan beberapa kolom kedalam X**. <br>\n",
    "Untuk meminimalisir missing value, saya menggunakan kolom **age, job, marital, education, balance, day, month, duration, campaign, pdays, poutcome** sebagai **X**, dan kolom **Client_Subscribed** sebagai **Y**."
   ]
  },
  {
   "cell_type": "markdown",
   "id": "3a2a3b02",
   "metadata": {},
   "source": [
    "## Model 1 : Logistic Regression\n",
    "Logistic Regression adalah sebuah algoritma klasifikasi untuk mencari hubungan antara fitur (input) diskrit/kontinu dengan probabilitas hasil output diskrit tertentu."
   ]
  },
  {
   "cell_type": "code",
   "execution_count": 38,
   "id": "d631788d",
   "metadata": {},
   "outputs": [],
   "source": [
    "#Data split\n",
    "from sklearn.model_selection import train_test_split\n",
    "feature_col_names = ['age', 'job', 'marital', 'education', 'balance', 'day', 'month', 'duration', 'campaign', 'pdays', 'poutcome']\n",
    "predicted_class_names = ['Client_Subscribed']\n",
    "\n",
    "x = df_undersampling[feature_col_names].values\n",
    "y = df_undersampling[predicted_class_names].values\n",
    "split_test_size = 0.25\n",
    "\n",
    "x_train, x_test, y_train, y_test = train_test_split(x, y, test_size=split_test_size, random_state=1)"
   ]
  },
  {
   "cell_type": "code",
   "execution_count": 39,
   "id": "edb632f3",
   "metadata": {},
   "outputs": [
    {
     "data": {
      "text/html": [
       "<div>\n",
       "<style scoped>\n",
       "    .dataframe tbody tr th:only-of-type {\n",
       "        vertical-align: middle;\n",
       "    }\n",
       "\n",
       "    .dataframe tbody tr th {\n",
       "        vertical-align: top;\n",
       "    }\n",
       "\n",
       "    .dataframe thead th {\n",
       "        text-align: right;\n",
       "    }\n",
       "</style>\n",
       "<table border=\"1\" class=\"dataframe\">\n",
       "  <thead>\n",
       "    <tr style=\"text-align: right;\">\n",
       "      <th></th>\n",
       "      <th>age</th>\n",
       "      <th>job</th>\n",
       "      <th>marital</th>\n",
       "      <th>education</th>\n",
       "      <th>default</th>\n",
       "      <th>balance</th>\n",
       "      <th>housing</th>\n",
       "      <th>loan</th>\n",
       "      <th>contact</th>\n",
       "      <th>day</th>\n",
       "      <th>month</th>\n",
       "      <th>duration</th>\n",
       "      <th>campaign</th>\n",
       "      <th>pdays</th>\n",
       "      <th>previous</th>\n",
       "      <th>poutcome</th>\n",
       "      <th>Client_Subscribed</th>\n",
       "    </tr>\n",
       "  </thead>\n",
       "  <tbody>\n",
       "    <tr>\n",
       "      <th>16514</th>\n",
       "      <td>42</td>\n",
       "      <td>9</td>\n",
       "      <td>2</td>\n",
       "      <td>1</td>\n",
       "      <td>0</td>\n",
       "      <td>2646</td>\n",
       "      <td>1</td>\n",
       "      <td>0</td>\n",
       "      <td>0</td>\n",
       "      <td>23</td>\n",
       "      <td>5</td>\n",
       "      <td>280</td>\n",
       "      <td>4</td>\n",
       "      <td>-1</td>\n",
       "      <td>0</td>\n",
       "      <td>3</td>\n",
       "      <td>0</td>\n",
       "    </tr>\n",
       "    <tr>\n",
       "      <th>876</th>\n",
       "      <td>37</td>\n",
       "      <td>11</td>\n",
       "      <td>2</td>\n",
       "      <td>3</td>\n",
       "      <td>0</td>\n",
       "      <td>414</td>\n",
       "      <td>1</td>\n",
       "      <td>0</td>\n",
       "      <td>2</td>\n",
       "      <td>7</td>\n",
       "      <td>8</td>\n",
       "      <td>131</td>\n",
       "      <td>1</td>\n",
       "      <td>-1</td>\n",
       "      <td>0</td>\n",
       "      <td>3</td>\n",
       "      <td>0</td>\n",
       "    </tr>\n",
       "    <tr>\n",
       "      <th>41667</th>\n",
       "      <td>54</td>\n",
       "      <td>4</td>\n",
       "      <td>2</td>\n",
       "      <td>2</td>\n",
       "      <td>0</td>\n",
       "      <td>2081</td>\n",
       "      <td>0</td>\n",
       "      <td>0</td>\n",
       "      <td>0</td>\n",
       "      <td>1</td>\n",
       "      <td>10</td>\n",
       "      <td>395</td>\n",
       "      <td>2</td>\n",
       "      <td>108</td>\n",
       "      <td>1</td>\n",
       "      <td>0</td>\n",
       "      <td>0</td>\n",
       "    </tr>\n",
       "    <tr>\n",
       "      <th>11710</th>\n",
       "      <td>58</td>\n",
       "      <td>9</td>\n",
       "      <td>1</td>\n",
       "      <td>1</td>\n",
       "      <td>0</td>\n",
       "      <td>683</td>\n",
       "      <td>0</td>\n",
       "      <td>0</td>\n",
       "      <td>2</td>\n",
       "      <td>20</td>\n",
       "      <td>6</td>\n",
       "      <td>157</td>\n",
       "      <td>2</td>\n",
       "      <td>-1</td>\n",
       "      <td>0</td>\n",
       "      <td>3</td>\n",
       "      <td>0</td>\n",
       "    </tr>\n",
       "    <tr>\n",
       "      <th>6465</th>\n",
       "      <td>30</td>\n",
       "      <td>4</td>\n",
       "      <td>1</td>\n",
       "      <td>1</td>\n",
       "      <td>0</td>\n",
       "      <td>-397</td>\n",
       "      <td>1</td>\n",
       "      <td>0</td>\n",
       "      <td>2</td>\n",
       "      <td>27</td>\n",
       "      <td>8</td>\n",
       "      <td>141</td>\n",
       "      <td>3</td>\n",
       "      <td>-1</td>\n",
       "      <td>0</td>\n",
       "      <td>3</td>\n",
       "      <td>0</td>\n",
       "    </tr>\n",
       "    <tr>\n",
       "      <th>...</th>\n",
       "      <td>...</td>\n",
       "      <td>...</td>\n",
       "      <td>...</td>\n",
       "      <td>...</td>\n",
       "      <td>...</td>\n",
       "      <td>...</td>\n",
       "      <td>...</td>\n",
       "      <td>...</td>\n",
       "      <td>...</td>\n",
       "      <td>...</td>\n",
       "      <td>...</td>\n",
       "      <td>...</td>\n",
       "      <td>...</td>\n",
       "      <td>...</td>\n",
       "      <td>...</td>\n",
       "      <td>...</td>\n",
       "      <td>...</td>\n",
       "    </tr>\n",
       "    <tr>\n",
       "      <th>45204</th>\n",
       "      <td>73</td>\n",
       "      <td>5</td>\n",
       "      <td>1</td>\n",
       "      <td>1</td>\n",
       "      <td>0</td>\n",
       "      <td>2850</td>\n",
       "      <td>0</td>\n",
       "      <td>0</td>\n",
       "      <td>0</td>\n",
       "      <td>17</td>\n",
       "      <td>9</td>\n",
       "      <td>300</td>\n",
       "      <td>1</td>\n",
       "      <td>40</td>\n",
       "      <td>8</td>\n",
       "      <td>0</td>\n",
       "      <td>1</td>\n",
       "    </tr>\n",
       "    <tr>\n",
       "      <th>45205</th>\n",
       "      <td>25</td>\n",
       "      <td>9</td>\n",
       "      <td>2</td>\n",
       "      <td>1</td>\n",
       "      <td>0</td>\n",
       "      <td>505</td>\n",
       "      <td>0</td>\n",
       "      <td>1</td>\n",
       "      <td>0</td>\n",
       "      <td>17</td>\n",
       "      <td>9</td>\n",
       "      <td>386</td>\n",
       "      <td>2</td>\n",
       "      <td>-1</td>\n",
       "      <td>0</td>\n",
       "      <td>3</td>\n",
       "      <td>1</td>\n",
       "    </tr>\n",
       "    <tr>\n",
       "      <th>45206</th>\n",
       "      <td>51</td>\n",
       "      <td>9</td>\n",
       "      <td>1</td>\n",
       "      <td>2</td>\n",
       "      <td>0</td>\n",
       "      <td>825</td>\n",
       "      <td>0</td>\n",
       "      <td>0</td>\n",
       "      <td>0</td>\n",
       "      <td>17</td>\n",
       "      <td>9</td>\n",
       "      <td>977</td>\n",
       "      <td>3</td>\n",
       "      <td>-1</td>\n",
       "      <td>0</td>\n",
       "      <td>3</td>\n",
       "      <td>1</td>\n",
       "    </tr>\n",
       "    <tr>\n",
       "      <th>45207</th>\n",
       "      <td>71</td>\n",
       "      <td>5</td>\n",
       "      <td>0</td>\n",
       "      <td>0</td>\n",
       "      <td>0</td>\n",
       "      <td>1729</td>\n",
       "      <td>0</td>\n",
       "      <td>0</td>\n",
       "      <td>0</td>\n",
       "      <td>17</td>\n",
       "      <td>9</td>\n",
       "      <td>456</td>\n",
       "      <td>2</td>\n",
       "      <td>-1</td>\n",
       "      <td>0</td>\n",
       "      <td>3</td>\n",
       "      <td>1</td>\n",
       "    </tr>\n",
       "    <tr>\n",
       "      <th>45208</th>\n",
       "      <td>72</td>\n",
       "      <td>5</td>\n",
       "      <td>1</td>\n",
       "      <td>1</td>\n",
       "      <td>0</td>\n",
       "      <td>5715</td>\n",
       "      <td>0</td>\n",
       "      <td>0</td>\n",
       "      <td>0</td>\n",
       "      <td>17</td>\n",
       "      <td>9</td>\n",
       "      <td>1127</td>\n",
       "      <td>5</td>\n",
       "      <td>184</td>\n",
       "      <td>3</td>\n",
       "      <td>2</td>\n",
       "      <td>1</td>\n",
       "    </tr>\n",
       "  </tbody>\n",
       "</table>\n",
       "<p>10578 rows × 17 columns</p>\n",
       "</div>"
      ],
      "text/plain": [
       "       age  job  marital  education  default  balance  housing  loan  contact  \\\n",
       "16514   42    9        2          1        0     2646        1     0        0   \n",
       "876     37   11        2          3        0      414        1     0        2   \n",
       "41667   54    4        2          2        0     2081        0     0        0   \n",
       "11710   58    9        1          1        0      683        0     0        2   \n",
       "6465    30    4        1          1        0     -397        1     0        2   \n",
       "...    ...  ...      ...        ...      ...      ...      ...   ...      ...   \n",
       "45204   73    5        1          1        0     2850        0     0        0   \n",
       "45205   25    9        2          1        0      505        0     1        0   \n",
       "45206   51    9        1          2        0      825        0     0        0   \n",
       "45207   71    5        0          0        0     1729        0     0        0   \n",
       "45208   72    5        1          1        0     5715        0     0        0   \n",
       "\n",
       "       day  month  duration  campaign  pdays  previous  poutcome  \\\n",
       "16514   23      5       280         4     -1         0         3   \n",
       "876      7      8       131         1     -1         0         3   \n",
       "41667    1     10       395         2    108         1         0   \n",
       "11710   20      6       157         2     -1         0         3   \n",
       "6465    27      8       141         3     -1         0         3   \n",
       "...    ...    ...       ...       ...    ...       ...       ...   \n",
       "45204   17      9       300         1     40         8         0   \n",
       "45205   17      9       386         2     -1         0         3   \n",
       "45206   17      9       977         3     -1         0         3   \n",
       "45207   17      9       456         2     -1         0         3   \n",
       "45208   17      9      1127         5    184         3         2   \n",
       "\n",
       "       Client_Subscribed  \n",
       "16514                  0  \n",
       "876                    0  \n",
       "41667                  0  \n",
       "11710                  0  \n",
       "6465                   0  \n",
       "...                  ...  \n",
       "45204                  1  \n",
       "45205                  1  \n",
       "45206                  1  \n",
       "45207                  1  \n",
       "45208                  1  \n",
       "\n",
       "[10578 rows x 17 columns]"
      ]
     },
     "execution_count": 39,
     "metadata": {},
     "output_type": "execute_result"
    }
   ],
   "source": [
    "df_undersampling"
   ]
  },
  {
   "cell_type": "code",
   "execution_count": 40,
   "id": "f0fd2689",
   "metadata": {},
   "outputs": [
    {
     "name": "stdout",
     "output_type": "stream",
     "text": [
      "75.00% ada pada training set\n",
      "25.00% ada pada test set\n"
     ]
    }
   ],
   "source": [
    "#Melihat pembagian data pada training set dan test set\n",
    "print(\"{0:0.2f}% ada pada training set\". format((len(x_train)/len(df_undersampling.index)) * 100))\n",
    "print(\"{0:0.2f}% ada pada test set\". format((len(x_test)/len(df_undersampling.index)) * 100))"
   ]
  },
  {
   "cell_type": "code",
   "execution_count": 41,
   "id": "5a7eced7",
   "metadata": {},
   "outputs": [
    {
     "data": {
      "text/plain": [
       "LogisticRegression()"
      ]
     },
     "execution_count": 41,
     "metadata": {},
     "output_type": "execute_result"
    }
   ],
   "source": [
    "#model training\n",
    "lr_model = LogisticRegression()\n",
    "lr_model.fit(x_train, y_train.ravel())"
   ]
  },
  {
   "cell_type": "code",
   "execution_count": 42,
   "id": "7a4fe1df",
   "metadata": {},
   "outputs": [
    {
     "name": "stdout",
     "output_type": "stream",
     "text": [
      "Accuracy: 0.7421\n"
     ]
    }
   ],
   "source": [
    "#Mengevaluasi model data train\n",
    "lr_predict_train = lr_model.predict(x_train)\n",
    "\n",
    "from sklearn import metrics\n",
    "print(\"Accuracy: {0:.4f}\".format(metrics.accuracy_score(y_train, lr_predict_train)))"
   ]
  },
  {
   "cell_type": "code",
   "execution_count": 43,
   "id": "6b670823",
   "metadata": {},
   "outputs": [
    {
     "name": "stdout",
     "output_type": "stream",
     "text": [
      "lr_predict_test [0 1 0 ... 0 0 1]\n",
      "y_test [[0]\n",
      " [0]\n",
      " [0]\n",
      " ...\n",
      " [1]\n",
      " [0]\n",
      " [0]]\n",
      "Accuracy: 0.7406\n"
     ]
    }
   ],
   "source": [
    "#Mengevaluasi model data test\n",
    "lr_predict_test = lr_model.predict(x_test)\n",
    "from sklearn import metrics\n",
    "\n",
    "print(\"lr_predict_test\", lr_predict_test)\n",
    "print(\"y_test\", y_test)\n",
    "print(\"Accuracy: {0:.4f}\".format(metrics.accuracy_score(y_test, lr_predict_test)))"
   ]
  },
  {
   "cell_type": "code",
   "execution_count": 44,
   "id": "ad841029",
   "metadata": {},
   "outputs": [
    {
     "name": "stdout",
     "output_type": "stream",
     "text": [
      "Confusion Matrix\n",
      "[[1062  294]\n",
      " [ 392  897]]\n",
      " \n",
      "Classification Report\n",
      "              precision    recall  f1-score   support\n",
      "\n",
      "           0       0.73      0.78      0.76      1356\n",
      "           1       0.75      0.70      0.72      1289\n",
      "\n",
      "    accuracy                           0.74      2645\n",
      "   macro avg       0.74      0.74      0.74      2645\n",
      "weighted avg       0.74      0.74      0.74      2645\n",
      "\n"
     ]
    }
   ],
   "source": [
    "#confusion matrix\n",
    "print(\"Confusion Matrix\")\n",
    "print(\"{0}\".format(metrics.confusion_matrix(y_test, lr_predict_test)))\n",
    "print(\" \")\n",
    "print(\"Classification Report\")\n",
    "print(metrics.classification_report(y_test, lr_predict_test))"
   ]
  },
  {
   "cell_type": "markdown",
   "id": "d9450eb0",
   "metadata": {},
   "source": [
    "**Kesimpulan** <br>\n",
    "Dapat dilihat bahwa hasil precision, recall dan f1-score pada Y (0 dan 1) > 70%. Datanya juga seimbang (tidak ada yang rentangnya sangat rendah atau sangat tinggi, berkisar antara 70% - 78%). Diperoleh hasil akurasi sebesar 74%."
   ]
  },
  {
   "cell_type": "markdown",
   "id": "3199917b",
   "metadata": {},
   "source": [
    "## Model 2 : K-Nearest Neighbour\n",
    "K-Nearest Neighbor merupakan salah satu metode Machine Learning yang berfungsi untuk mengambil keputusan menggunakan Supervised Learning dimana hasil dari data masukan yang baru diklasifikasi berdasarkan terdekat dalam data nilai."
   ]
  },
  {
   "cell_type": "code",
   "execution_count": 45,
   "id": "e0216218",
   "metadata": {},
   "outputs": [],
   "source": [
    "#Data split\n",
    "from sklearn.model_selection import train_test_split\n",
    "feature_col_names = ['age', 'job', 'marital', 'education', 'balance', 'day', 'month', 'duration', 'campaign', 'pdays', 'poutcome']\n",
    "predicted_class_names = ['Client_Subscribed']\n",
    "\n",
    "x = df_undersampling[feature_col_names].values\n",
    "y = df_undersampling[predicted_class_names].values\n",
    "split_test_size = 0.25\n",
    "\n",
    "x_train, x_test, y_train, y_test = train_test_split(x, y, test_size=split_test_size, random_state=1)"
   ]
  },
  {
   "cell_type": "code",
   "execution_count": 46,
   "id": "8ededeb5",
   "metadata": {},
   "outputs": [
    {
     "name": "stdout",
     "output_type": "stream",
     "text": [
      "75.00% ada pada training set\n",
      "25.00% ada pada test set\n"
     ]
    }
   ],
   "source": [
    "print(\"{0:0.2f}% ada pada training set\". format((len(x_train)/len(df_undersampling.index)) * 100))\n",
    "print(\"{0:0.2f}% ada pada test set\". format((len(x_test)/len(df_undersampling.index)) * 100))"
   ]
  },
  {
   "cell_type": "code",
   "execution_count": 47,
   "id": "7e32b77d",
   "metadata": {},
   "outputs": [
    {
     "data": {
      "text/plain": [
       "KNeighborsClassifier()"
      ]
     },
     "execution_count": 47,
     "metadata": {},
     "output_type": "execute_result"
    }
   ],
   "source": [
    "#model training\n",
    "KNN_model = KNeighborsClassifier()\n",
    "KNN_model.fit(x_train, y_train.ravel())"
   ]
  },
  {
   "cell_type": "code",
   "execution_count": 48,
   "id": "c3a03ffc",
   "metadata": {},
   "outputs": [
    {
     "name": "stdout",
     "output_type": "stream",
     "text": [
      "Accuracy: 0.8146\n"
     ]
    }
   ],
   "source": [
    "#Mengevaluasi model data train\n",
    "KNN_predict_train = KNN_model.predict(x_train)\n",
    "\n",
    "from sklearn import metrics\n",
    "print(\"Accuracy: {0:.4f}\".format(metrics.accuracy_score(y_train, KNN_predict_train)))"
   ]
  },
  {
   "cell_type": "code",
   "execution_count": 49,
   "id": "be770e18",
   "metadata": {},
   "outputs": [
    {
     "name": "stdout",
     "output_type": "stream",
     "text": [
      "KNN_predict_test [1 1 0 ... 0 1 0]\n",
      "y_test [[0]\n",
      " [0]\n",
      " [0]\n",
      " ...\n",
      " [1]\n",
      " [0]\n",
      " [0]]\n",
      "Accuracy: 0.7437\n"
     ]
    }
   ],
   "source": [
    "#Mengevaluasi model data test\n",
    "KNN_predict_test = KNN_model.predict(x_test)\n",
    "from sklearn import metrics\n",
    "\n",
    "print(\"KNN_predict_test\", KNN_predict_test)\n",
    "print(\"y_test\", y_test)\n",
    "print(\"Accuracy: {0:.4f}\".format(metrics.accuracy_score(y_test, KNN_predict_test)))"
   ]
  },
  {
   "cell_type": "code",
   "execution_count": 50,
   "id": "f82cea15",
   "metadata": {},
   "outputs": [
    {
     "name": "stdout",
     "output_type": "stream",
     "text": [
      "Confusion Matrix\n",
      "[[1027  329]\n",
      " [ 349  940]]\n",
      " \n",
      "Classification Report\n",
      "              precision    recall  f1-score   support\n",
      "\n",
      "           0       0.75      0.76      0.75      1356\n",
      "           1       0.74      0.73      0.73      1289\n",
      "\n",
      "    accuracy                           0.74      2645\n",
      "   macro avg       0.74      0.74      0.74      2645\n",
      "weighted avg       0.74      0.74      0.74      2645\n",
      "\n"
     ]
    }
   ],
   "source": [
    "#confusion matrix\n",
    "print(\"Confusion Matrix\")\n",
    "print(\"{0}\".format(metrics.confusion_matrix(y_test, KNN_predict_test)))\n",
    "print(\" \")\n",
    "print(\"Classification Report\")\n",
    "print(metrics.classification_report(y_test, KNN_predict_test))"
   ]
  },
  {
   "cell_type": "markdown",
   "id": "05079e3d",
   "metadata": {},
   "source": [
    "**Kesimpulan** <br>\n",
    "Dapat dilihat bahwa hasil precision, recall dan f1-score pada Y (0 dan 1) > 70%. Datanya juga seimbang (tidak ada yang rentangnya sangat rendah atau sangat tinggi, berkisar antara 73% - 76%). Diperoleh hasil akurasi sebesar 74%."
   ]
  },
  {
   "cell_type": "markdown",
   "id": "e3c10771",
   "metadata": {},
   "source": [
    "## Model 3 : Support Vector Machine\n",
    "SVM merupakan algoritma yang umumnya digunakan untuk klasifikasi dan juga regresi. Dalam Machine Learning, SVM termasuk dalam model supervised learning yang berhubungan dengan analisis data dan pengenalan pola. Metode dasar SVM adalah mengambil satu set data input lalu memperkirakan untuk setiap input yang diberikan dari dua kelas yang memungkinan untuk membuat output. "
   ]
  },
  {
   "cell_type": "code",
   "execution_count": 44,
   "id": "38d5e99d",
   "metadata": {},
   "outputs": [],
   "source": [
    "#Data split\n",
    "from sklearn.model_selection import train_test_split\n",
    "feature_col_names = ['age', 'job', 'marital', 'education', 'balance', 'day', 'month', 'duration', 'campaign', 'pdays', 'poutcome']\n",
    "predicted_class_names = ['Client_Subscribed']\n",
    "\n",
    "x = df_undersampling[feature_col_names].values\n",
    "y = df_undersampling[predicted_class_names].values\n",
    "split_test_size = 0.25\n",
    "\n",
    "x_train, x_test, y_train, y_test = train_test_split(x, y, test_size=split_test_size, random_state=1)"
   ]
  },
  {
   "cell_type": "code",
   "execution_count": 45,
   "id": "ffae28e4",
   "metadata": {},
   "outputs": [
    {
     "name": "stdout",
     "output_type": "stream",
     "text": [
      "75.00% ada pada training set\n",
      "25.00% ada pada test set\n"
     ]
    }
   ],
   "source": [
    "print(\"{0:0.2f}% ada pada training set\". format((len(x_train)/len(df_undersampling.index)) * 100))\n",
    "print(\"{0:0.2f}% ada pada test set\". format((len(x_test)/len(df_undersampling.index)) * 100))"
   ]
  },
  {
   "cell_type": "code",
   "execution_count": 46,
   "id": "606a1182",
   "metadata": {},
   "outputs": [
    {
     "data": {
      "text/html": [
       "<style>#sk-container-id-1 {color: black;background-color: white;}#sk-container-id-1 pre{padding: 0;}#sk-container-id-1 div.sk-toggleable {background-color: white;}#sk-container-id-1 label.sk-toggleable__label {cursor: pointer;display: block;width: 100%;margin-bottom: 0;padding: 0.3em;box-sizing: border-box;text-align: center;}#sk-container-id-1 label.sk-toggleable__label-arrow:before {content: \"▸\";float: left;margin-right: 0.25em;color: #696969;}#sk-container-id-1 label.sk-toggleable__label-arrow:hover:before {color: black;}#sk-container-id-1 div.sk-estimator:hover label.sk-toggleable__label-arrow:before {color: black;}#sk-container-id-1 div.sk-toggleable__content {max-height: 0;max-width: 0;overflow: hidden;text-align: left;background-color: #f0f8ff;}#sk-container-id-1 div.sk-toggleable__content pre {margin: 0.2em;color: black;border-radius: 0.25em;background-color: #f0f8ff;}#sk-container-id-1 input.sk-toggleable__control:checked~div.sk-toggleable__content {max-height: 200px;max-width: 100%;overflow: auto;}#sk-container-id-1 input.sk-toggleable__control:checked~label.sk-toggleable__label-arrow:before {content: \"▾\";}#sk-container-id-1 div.sk-estimator input.sk-toggleable__control:checked~label.sk-toggleable__label {background-color: #d4ebff;}#sk-container-id-1 div.sk-label input.sk-toggleable__control:checked~label.sk-toggleable__label {background-color: #d4ebff;}#sk-container-id-1 input.sk-hidden--visually {border: 0;clip: rect(1px 1px 1px 1px);clip: rect(1px, 1px, 1px, 1px);height: 1px;margin: -1px;overflow: hidden;padding: 0;position: absolute;width: 1px;}#sk-container-id-1 div.sk-estimator {font-family: monospace;background-color: #f0f8ff;border: 1px dotted black;border-radius: 0.25em;box-sizing: border-box;margin-bottom: 0.5em;}#sk-container-id-1 div.sk-estimator:hover {background-color: #d4ebff;}#sk-container-id-1 div.sk-parallel-item::after {content: \"\";width: 100%;border-bottom: 1px solid gray;flex-grow: 1;}#sk-container-id-1 div.sk-label:hover label.sk-toggleable__label {background-color: #d4ebff;}#sk-container-id-1 div.sk-serial::before {content: \"\";position: absolute;border-left: 1px solid gray;box-sizing: border-box;top: 0;bottom: 0;left: 50%;z-index: 0;}#sk-container-id-1 div.sk-serial {display: flex;flex-direction: column;align-items: center;background-color: white;padding-right: 0.2em;padding-left: 0.2em;position: relative;}#sk-container-id-1 div.sk-item {position: relative;z-index: 1;}#sk-container-id-1 div.sk-parallel {display: flex;align-items: stretch;justify-content: center;background-color: white;position: relative;}#sk-container-id-1 div.sk-item::before, #sk-container-id-1 div.sk-parallel-item::before {content: \"\";position: absolute;border-left: 1px solid gray;box-sizing: border-box;top: 0;bottom: 0;left: 50%;z-index: -1;}#sk-container-id-1 div.sk-parallel-item {display: flex;flex-direction: column;z-index: 1;position: relative;background-color: white;}#sk-container-id-1 div.sk-parallel-item:first-child::after {align-self: flex-end;width: 50%;}#sk-container-id-1 div.sk-parallel-item:last-child::after {align-self: flex-start;width: 50%;}#sk-container-id-1 div.sk-parallel-item:only-child::after {width: 0;}#sk-container-id-1 div.sk-dashed-wrapped {border: 1px dashed gray;margin: 0 0.4em 0.5em 0.4em;box-sizing: border-box;padding-bottom: 0.4em;background-color: white;}#sk-container-id-1 div.sk-label label {font-family: monospace;font-weight: bold;display: inline-block;line-height: 1.2em;}#sk-container-id-1 div.sk-label-container {text-align: center;}#sk-container-id-1 div.sk-container {/* jupyter's `normalize.less` sets `[hidden] { display: none; }` but bootstrap.min.css set `[hidden] { display: none !important; }` so we also need the `!important` here to be able to override the default hidden behavior on the sphinx rendered scikit-learn.org. See: https://github.com/scikit-learn/scikit-learn/issues/21755 */display: inline-block !important;position: relative;}#sk-container-id-1 div.sk-text-repr-fallback {display: none;}</style><div id=\"sk-container-id-1\" class=\"sk-top-container\"><div class=\"sk-text-repr-fallback\"><pre>SVC(kernel=&#x27;linear&#x27;)</pre><b>In a Jupyter environment, please rerun this cell to show the HTML representation or trust the notebook. <br />On GitHub, the HTML representation is unable to render, please try loading this page with nbviewer.org.</b></div><div class=\"sk-container\" hidden><div class=\"sk-item\"><div class=\"sk-estimator sk-toggleable\"><input class=\"sk-toggleable__control sk-hidden--visually\" id=\"sk-estimator-id-1\" type=\"checkbox\" checked><label for=\"sk-estimator-id-1\" class=\"sk-toggleable__label sk-toggleable__label-arrow\">SVC</label><div class=\"sk-toggleable__content\"><pre>SVC(kernel=&#x27;linear&#x27;)</pre></div></div></div></div></div>"
      ],
      "text/plain": [
       "SVC(kernel='linear')"
      ]
     },
     "execution_count": 46,
     "metadata": {},
     "output_type": "execute_result"
    }
   ],
   "source": [
    "#model training\n",
    "SVM_model = SVC(kernel='linear')\n",
    "SVM_model.fit(x_train, y_train.ravel())"
   ]
  },
  {
   "cell_type": "code",
   "execution_count": 47,
   "id": "680c33fa",
   "metadata": {},
   "outputs": [
    {
     "name": "stdout",
     "output_type": "stream",
     "text": [
      "Accuracy: 0.7401\n"
     ]
    }
   ],
   "source": [
    "#Mengevaluasi model data train\n",
    "SVM_predict_train = SVM_model.predict(x_train)\n",
    "\n",
    "\n",
    "from sklearn import metrics\n",
    "print(\"Accuracy: {0:.4f}\".format(metrics.accuracy_score(y_train, SVM_predict_train)))"
   ]
  },
  {
   "cell_type": "code",
   "execution_count": 48,
   "id": "053a7d5c",
   "metadata": {},
   "outputs": [
    {
     "name": "stdout",
     "output_type": "stream",
     "text": [
      "KNN_predict_test [0 1 0 ... 0 1 0]\n",
      "y_test [[0]\n",
      " [0]\n",
      " [0]\n",
      " ...\n",
      " [1]\n",
      " [0]\n",
      " [0]]\n",
      "Accuracy: 0.7539\n"
     ]
    }
   ],
   "source": [
    "#Mengevaluasi model data test\n",
    "SVM_predict_test = SVM_model.predict(x_test)\n",
    "from sklearn import metrics\n",
    "\n",
    "print(\"KNN_predict_test\", SVM_predict_test)\n",
    "print(\"y_test\", y_test)\n",
    "print(\"Accuracy: {0:.4f}\".format(metrics.accuracy_score(y_test, SVM_predict_test)))"
   ]
  },
  {
   "cell_type": "code",
   "execution_count": 49,
   "id": "84e00fff",
   "metadata": {},
   "outputs": [
    {
     "name": "stdout",
     "output_type": "stream",
     "text": [
      "Confusion Matrix\n",
      "[[ 932  424]\n",
      " [ 227 1062]]\n",
      " \n",
      "Classification Report\n",
      "              precision    recall  f1-score   support\n",
      "\n",
      "           0       0.80      0.69      0.74      1356\n",
      "           1       0.71      0.82      0.77      1289\n",
      "\n",
      "    accuracy                           0.75      2645\n",
      "   macro avg       0.76      0.76      0.75      2645\n",
      "weighted avg       0.76      0.75      0.75      2645\n",
      "\n"
     ]
    }
   ],
   "source": [
    "#confusion matrix\n",
    "print(\"Confusion Matrix\")\n",
    "print(\"{0}\".format(metrics.confusion_matrix(y_test, SVM_predict_test)))\n",
    "print(\" \")\n",
    "print(\"Classification Report\")\n",
    "print(metrics.classification_report(y_test, SVM_predict_test))"
   ]
  },
  {
   "cell_type": "code",
   "execution_count": null,
   "id": "23797806",
   "metadata": {},
   "outputs": [],
   "source": [
    "# Loading lama banget, skip dulu"
   ]
  },
  {
   "cell_type": "markdown",
   "id": "08931b35",
   "metadata": {},
   "source": [
    "**Kesimpulan** <br>\n",
    "Dapat dilihat bahwa hasil precision, recall dan f1-score pada Y (0 dan 1) > .. %. Datanya juga seimbang (tidak ada yang rentangnya sangat rendah atau sangat tinggi, berkisar antara .. % - ..%). Diperoleh hasil akurasi sebesar ..%."
   ]
  },
  {
   "cell_type": "markdown",
   "id": "80c4bbdc",
   "metadata": {},
   "source": [
    "## Model 4 : Decision Tree\n",
    "Decision Tree merupakan salah satu algoritma yang sangat mudah dipahami dalam klasifikasi objek. Algoritma ini adalah salah satu algoritma Supervised Learning. Decision Tree membagi data menjadi himpunan bagian berdasarkan variabel inputnya."
   ]
  },
  {
   "cell_type": "code",
   "execution_count": 50,
   "id": "f2c68d87",
   "metadata": {},
   "outputs": [],
   "source": [
    "#Data split\n",
    "from sklearn.model_selection import train_test_split\n",
    "feature_col_names = ['age', 'job', 'marital', 'education', 'balance', 'day', 'month', 'duration', 'campaign', 'pdays', 'poutcome']\n",
    "predicted_class_names = ['Client_Subscribed']\n",
    "\n",
    "x = df_undersampling[feature_col_names].values\n",
    "y = df_undersampling[predicted_class_names].values\n",
    "split_test_size = 0.25\n",
    "\n",
    "x_train, x_test, y_train, y_test = train_test_split(x, y, test_size=split_test_size, random_state=1)"
   ]
  },
  {
   "cell_type": "code",
   "execution_count": 51,
   "id": "acafe9e2",
   "metadata": {},
   "outputs": [
    {
     "data": {
      "text/html": [
       "<style>#sk-container-id-2 {color: black;background-color: white;}#sk-container-id-2 pre{padding: 0;}#sk-container-id-2 div.sk-toggleable {background-color: white;}#sk-container-id-2 label.sk-toggleable__label {cursor: pointer;display: block;width: 100%;margin-bottom: 0;padding: 0.3em;box-sizing: border-box;text-align: center;}#sk-container-id-2 label.sk-toggleable__label-arrow:before {content: \"▸\";float: left;margin-right: 0.25em;color: #696969;}#sk-container-id-2 label.sk-toggleable__label-arrow:hover:before {color: black;}#sk-container-id-2 div.sk-estimator:hover label.sk-toggleable__label-arrow:before {color: black;}#sk-container-id-2 div.sk-toggleable__content {max-height: 0;max-width: 0;overflow: hidden;text-align: left;background-color: #f0f8ff;}#sk-container-id-2 div.sk-toggleable__content pre {margin: 0.2em;color: black;border-radius: 0.25em;background-color: #f0f8ff;}#sk-container-id-2 input.sk-toggleable__control:checked~div.sk-toggleable__content {max-height: 200px;max-width: 100%;overflow: auto;}#sk-container-id-2 input.sk-toggleable__control:checked~label.sk-toggleable__label-arrow:before {content: \"▾\";}#sk-container-id-2 div.sk-estimator input.sk-toggleable__control:checked~label.sk-toggleable__label {background-color: #d4ebff;}#sk-container-id-2 div.sk-label input.sk-toggleable__control:checked~label.sk-toggleable__label {background-color: #d4ebff;}#sk-container-id-2 input.sk-hidden--visually {border: 0;clip: rect(1px 1px 1px 1px);clip: rect(1px, 1px, 1px, 1px);height: 1px;margin: -1px;overflow: hidden;padding: 0;position: absolute;width: 1px;}#sk-container-id-2 div.sk-estimator {font-family: monospace;background-color: #f0f8ff;border: 1px dotted black;border-radius: 0.25em;box-sizing: border-box;margin-bottom: 0.5em;}#sk-container-id-2 div.sk-estimator:hover {background-color: #d4ebff;}#sk-container-id-2 div.sk-parallel-item::after {content: \"\";width: 100%;border-bottom: 1px solid gray;flex-grow: 1;}#sk-container-id-2 div.sk-label:hover label.sk-toggleable__label {background-color: #d4ebff;}#sk-container-id-2 div.sk-serial::before {content: \"\";position: absolute;border-left: 1px solid gray;box-sizing: border-box;top: 0;bottom: 0;left: 50%;z-index: 0;}#sk-container-id-2 div.sk-serial {display: flex;flex-direction: column;align-items: center;background-color: white;padding-right: 0.2em;padding-left: 0.2em;position: relative;}#sk-container-id-2 div.sk-item {position: relative;z-index: 1;}#sk-container-id-2 div.sk-parallel {display: flex;align-items: stretch;justify-content: center;background-color: white;position: relative;}#sk-container-id-2 div.sk-item::before, #sk-container-id-2 div.sk-parallel-item::before {content: \"\";position: absolute;border-left: 1px solid gray;box-sizing: border-box;top: 0;bottom: 0;left: 50%;z-index: -1;}#sk-container-id-2 div.sk-parallel-item {display: flex;flex-direction: column;z-index: 1;position: relative;background-color: white;}#sk-container-id-2 div.sk-parallel-item:first-child::after {align-self: flex-end;width: 50%;}#sk-container-id-2 div.sk-parallel-item:last-child::after {align-self: flex-start;width: 50%;}#sk-container-id-2 div.sk-parallel-item:only-child::after {width: 0;}#sk-container-id-2 div.sk-dashed-wrapped {border: 1px dashed gray;margin: 0 0.4em 0.5em 0.4em;box-sizing: border-box;padding-bottom: 0.4em;background-color: white;}#sk-container-id-2 div.sk-label label {font-family: monospace;font-weight: bold;display: inline-block;line-height: 1.2em;}#sk-container-id-2 div.sk-label-container {text-align: center;}#sk-container-id-2 div.sk-container {/* jupyter's `normalize.less` sets `[hidden] { display: none; }` but bootstrap.min.css set `[hidden] { display: none !important; }` so we also need the `!important` here to be able to override the default hidden behavior on the sphinx rendered scikit-learn.org. See: https://github.com/scikit-learn/scikit-learn/issues/21755 */display: inline-block !important;position: relative;}#sk-container-id-2 div.sk-text-repr-fallback {display: none;}</style><div id=\"sk-container-id-2\" class=\"sk-top-container\"><div class=\"sk-text-repr-fallback\"><pre>DecisionTreeClassifier()</pre><b>In a Jupyter environment, please rerun this cell to show the HTML representation or trust the notebook. <br />On GitHub, the HTML representation is unable to render, please try loading this page with nbviewer.org.</b></div><div class=\"sk-container\" hidden><div class=\"sk-item\"><div class=\"sk-estimator sk-toggleable\"><input class=\"sk-toggleable__control sk-hidden--visually\" id=\"sk-estimator-id-2\" type=\"checkbox\" checked><label for=\"sk-estimator-id-2\" class=\"sk-toggleable__label sk-toggleable__label-arrow\">DecisionTreeClassifier</label><div class=\"sk-toggleable__content\"><pre>DecisionTreeClassifier()</pre></div></div></div></div></div>"
      ],
      "text/plain": [
       "DecisionTreeClassifier()"
      ]
     },
     "execution_count": 51,
     "metadata": {},
     "output_type": "execute_result"
    }
   ],
   "source": [
    "#model training\n",
    "from sklearn.tree import DecisionTreeClassifier\n",
    "destree_model = DecisionTreeClassifier()\n",
    "destree_model.fit(x_train, y_train.ravel())"
   ]
  },
  {
   "cell_type": "code",
   "execution_count": 52,
   "id": "07d9cda6",
   "metadata": {},
   "outputs": [
    {
     "name": "stdout",
     "output_type": "stream",
     "text": [
      "Accuracy: 1.0000\n"
     ]
    }
   ],
   "source": [
    "#Mengevaluasi model\n",
    "destree_predict_train = destree_model.predict(x_train)\n",
    "\n",
    "from sklearn import metrics\n",
    "print(\"Accuracy: {0:.4f}\".format(metrics.accuracy_score(y_train, destree_predict_train)))"
   ]
  },
  {
   "cell_type": "code",
   "execution_count": 53,
   "id": "83830b10",
   "metadata": {},
   "outputs": [
    {
     "name": "stdout",
     "output_type": "stream",
     "text": [
      "destree_predict_test [0 1 0 ... 1 1 0]\n",
      "y_test [[0]\n",
      " [0]\n",
      " [0]\n",
      " ...\n",
      " [1]\n",
      " [0]\n",
      " [0]]\n",
      "Accuracy: 0.7917\n"
     ]
    }
   ],
   "source": [
    "destree_predict_test = destree_model.predict(x_test)\n",
    "from sklearn import metrics\n",
    "\n",
    "print(\"destree_predict_test\", destree_predict_test)\n",
    "print(\"y_test\", y_test)\n",
    "print(\"Accuracy: {0:.4f}\".format(metrics.accuracy_score(y_test, destree_predict_test)))"
   ]
  },
  {
   "cell_type": "code",
   "execution_count": 54,
   "id": "98326140",
   "metadata": {},
   "outputs": [
    {
     "name": "stdout",
     "output_type": "stream",
     "text": [
      "Confusion Matrix\n",
      "[[1094  262]\n",
      " [ 289 1000]]\n",
      " \n",
      "Classification Report\n",
      "              precision    recall  f1-score   support\n",
      "\n",
      "           0       0.79      0.81      0.80      1356\n",
      "           1       0.79      0.78      0.78      1289\n",
      "\n",
      "    accuracy                           0.79      2645\n",
      "   macro avg       0.79      0.79      0.79      2645\n",
      "weighted avg       0.79      0.79      0.79      2645\n",
      "\n"
     ]
    }
   ],
   "source": [
    "#confusion matrix\n",
    "print(\"Confusion Matrix\")\n",
    "print(\"{0}\".format(metrics.confusion_matrix(y_test, destree_predict_test)))\n",
    "print(\" \")\n",
    "print(\"Classification Report\")\n",
    "print(metrics.classification_report(y_test, destree_predict_test))"
   ]
  },
  {
   "cell_type": "markdown",
   "id": "95bcecaf",
   "metadata": {},
   "source": [
    "**Kesimpulan** <br>\n",
    "Dapat dilihat bahwa hasil precision, recall dan f1-score pada Y (0 dan 1) > 70%. Datanya juga seimbang (tidak ada yang rentangnya sangat rendah atau sangat tinggi, berkisar antara 77% - 80%). Diperoleh hasil akurasi sebesar 78%."
   ]
  },
  {
   "cell_type": "code",
   "execution_count": 55,
   "id": "72ed2515",
   "metadata": {},
   "outputs": [],
   "source": [
    "#Visualisasi decision tree\n",
    "import sklearn.tree as tree\n",
    "import pydotplus\n",
    "from six import StringIO\n",
    "from IPython.display import Image"
   ]
  },
  {
   "cell_type": "code",
   "execution_count": 59,
   "id": "093d3bd6",
   "metadata": {},
   "outputs": [
    {
     "name": "stdout",
     "output_type": "stream",
     "text": [
      "Requirement already satisfied: six in c:\\users\\fransisca mulya sari\\appdata\\roaming\\python\\python39\\site-packages (1.16.0)\n"
     ]
    }
   ],
   "source": [
    "!pip install six"
   ]
  },
  {
   "cell_type": "code",
   "execution_count": 58,
   "id": "f448ccbc",
   "metadata": {},
   "outputs": [
    {
     "ename": "InvocationException",
     "evalue": "GraphViz's executables not found",
     "output_type": "error",
     "traceback": [
      "\u001b[1;31m---------------------------------------------------------------------------\u001b[0m",
      "\u001b[1;31mInvocationException\u001b[0m                       Traceback (most recent call last)",
      "Cell \u001b[1;32mIn[58], line 11\u001b[0m\n\u001b[0;32m      3\u001b[0m tree\u001b[39m.\u001b[39mexport_graphviz(destree_model, out_file\u001b[39m=\u001b[39mdot_data,\n\u001b[0;32m      4\u001b[0m                      class_names\u001b[39m=\u001b[39m[\u001b[39m'\u001b[39m\u001b[39m0\u001b[39m\u001b[39m'\u001b[39m,\u001b[39m'\u001b[39m\u001b[39m1\u001b[39m\u001b[39m'\u001b[39m], \u001b[39m# nama target\u001b[39;00m\n\u001b[0;32m      5\u001b[0m                      feature_names\u001b[39m=\u001b[39mfeature_col_names,\n\u001b[0;32m      6\u001b[0m                      filled\u001b[39m=\u001b[39m\u001b[39mTrue\u001b[39;00m,\n\u001b[0;32m      7\u001b[0m                      rounded\u001b[39m=\u001b[39m\u001b[39mTrue\u001b[39;00m,\n\u001b[0;32m      8\u001b[0m                      special_characters\u001b[39m=\u001b[39m\u001b[39mTrue\u001b[39;00m)\n\u001b[0;32m      9\u001b[0m graph  \u001b[39m=\u001b[39m pydotplus\u001b[39m.\u001b[39mgraph_from_dot_data(dot_data\u001b[39m.\u001b[39mgetvalue())\n\u001b[1;32m---> 11\u001b[0m Image(graph\u001b[39m.\u001b[39;49mcreate_png())\n",
      "File \u001b[1;32mc:\\Users\\hp\\AppData\\Local\\Programs\\Python\\Python310\\lib\\site-packages\\pydotplus\\graphviz.py:1797\u001b[0m, in \u001b[0;36mDot.__init__.<locals>.<lambda>\u001b[1;34m(f, prog)\u001b[0m\n\u001b[0;32m   1792\u001b[0m \u001b[39m# Automatically creates all the methods enabling the creation\u001b[39;00m\n\u001b[0;32m   1793\u001b[0m \u001b[39m# of output in any of the supported formats.\u001b[39;00m\n\u001b[0;32m   1794\u001b[0m \u001b[39mfor\u001b[39;00m frmt \u001b[39min\u001b[39;00m \u001b[39mself\u001b[39m\u001b[39m.\u001b[39mformats:\n\u001b[0;32m   1795\u001b[0m     \u001b[39mself\u001b[39m\u001b[39m.\u001b[39m\u001b[39m__setattr__\u001b[39m(\n\u001b[0;32m   1796\u001b[0m         \u001b[39m'\u001b[39m\u001b[39mcreate_\u001b[39m\u001b[39m'\u001b[39m \u001b[39m+\u001b[39m frmt,\n\u001b[1;32m-> 1797\u001b[0m         \u001b[39mlambda\u001b[39;00m f\u001b[39m=\u001b[39mfrmt, prog\u001b[39m=\u001b[39m\u001b[39mself\u001b[39m\u001b[39m.\u001b[39mprog: \u001b[39mself\u001b[39;49m\u001b[39m.\u001b[39;49mcreate(\u001b[39mformat\u001b[39;49m\u001b[39m=\u001b[39;49mf, prog\u001b[39m=\u001b[39;49mprog)\n\u001b[0;32m   1798\u001b[0m     )\n\u001b[0;32m   1799\u001b[0m     f \u001b[39m=\u001b[39m \u001b[39mself\u001b[39m\u001b[39m.\u001b[39m\u001b[39m__dict__\u001b[39m[\u001b[39m'\u001b[39m\u001b[39mcreate_\u001b[39m\u001b[39m'\u001b[39m \u001b[39m+\u001b[39m frmt]\n\u001b[0;32m   1800\u001b[0m     f\u001b[39m.\u001b[39m\u001b[39m__doc__\u001b[39m \u001b[39m=\u001b[39m (\n\u001b[0;32m   1801\u001b[0m \u001b[39m        \u001b[39m\u001b[39m'''Refer to the docstring accompanying the'''\u001b[39;00m\n\u001b[0;32m   1802\u001b[0m \u001b[39m        \u001b[39m\u001b[39m''''create' method for more information.'''\u001b[39;00m\n\u001b[0;32m   1803\u001b[0m     )\n",
      "File \u001b[1;32mc:\\Users\\hp\\AppData\\Local\\Programs\\Python\\Python310\\lib\\site-packages\\pydotplus\\graphviz.py:1959\u001b[0m, in \u001b[0;36mDot.create\u001b[1;34m(self, prog, format)\u001b[0m\n\u001b[0;32m   1957\u001b[0m     \u001b[39mself\u001b[39m\u001b[39m.\u001b[39mprogs \u001b[39m=\u001b[39m find_graphviz()\n\u001b[0;32m   1958\u001b[0m     \u001b[39mif\u001b[39;00m \u001b[39mself\u001b[39m\u001b[39m.\u001b[39mprogs \u001b[39mis\u001b[39;00m \u001b[39mNone\u001b[39;00m:\n\u001b[1;32m-> 1959\u001b[0m         \u001b[39mraise\u001b[39;00m InvocationException(\n\u001b[0;32m   1960\u001b[0m             \u001b[39m'\u001b[39m\u001b[39mGraphViz\u001b[39m\u001b[39m\\'\u001b[39;00m\u001b[39ms executables not found\u001b[39m\u001b[39m'\u001b[39m)\n\u001b[0;32m   1962\u001b[0m \u001b[39mif\u001b[39;00m prog \u001b[39mnot\u001b[39;00m \u001b[39min\u001b[39;00m \u001b[39mself\u001b[39m\u001b[39m.\u001b[39mprogs:\n\u001b[0;32m   1963\u001b[0m     \u001b[39mraise\u001b[39;00m InvocationException(\n\u001b[0;32m   1964\u001b[0m         \u001b[39m'\u001b[39m\u001b[39mGraphViz\u001b[39m\u001b[39m\\'\u001b[39;00m\u001b[39ms executable \u001b[39m\u001b[39m\"\u001b[39m\u001b[39m%s\u001b[39;00m\u001b[39m\"\u001b[39m\u001b[39m not found\u001b[39m\u001b[39m'\u001b[39m \u001b[39m%\u001b[39m prog)\n",
      "\u001b[1;31mInvocationException\u001b[0m: GraphViz's executables not found"
     ]
    }
   ],
   "source": [
    "dot_data = StringIO()\n",
    "\n",
    "tree.export_graphviz(destree_model, out_file=dot_data,\n",
    "                     class_names=['0','1'], # nama target\n",
    "                     feature_names=feature_col_names,\n",
    "                     filled=True,\n",
    "                     rounded=True,\n",
    "                     special_characters=True)\n",
    "graph  = pydotplus.graph_from_dot_data(dot_data.getvalue())\n",
    "\n",
    "Image(graph.create_png())"
   ]
  },
  {
   "cell_type": "markdown",
   "id": "339e8e28",
   "metadata": {},
   "source": [
    "Diperoleh hasil decision tree seperti pada gambar diatas. Wah sangat banyak ya! Mari kita sesuaikan kedalaman pohonnya dengan menggunakan max_depth. Pada kesempatan kali ini, saya mengubah max_depth menjadi 5."
   ]
  },
  {
   "cell_type": "code",
   "execution_count": 60,
   "id": "4137d2a0",
   "metadata": {},
   "outputs": [],
   "source": [
    "#Mengubah max_depth\n",
    "dtc2 = DecisionTreeClassifier(max_depth=5) #prepruning\n",
    "dtc2.fit(x_train,y_train)\n",
    "\n",
    "y_pred_train  = dtc2.predict(x_train)\n",
    "y_pred_test = dtc2.predict(x_test)"
   ]
  },
  {
   "cell_type": "code",
   "execution_count": 61,
   "id": "f40151a0",
   "metadata": {},
   "outputs": [
    {
     "name": "stdout",
     "output_type": "stream",
     "text": [
      "train \n",
      "               precision    recall  f1-score   support\n",
      "\n",
      "           0       0.79      0.83      0.81      3933\n",
      "           1       0.83      0.78      0.80      4000\n",
      "\n",
      "    accuracy                           0.81      7933\n",
      "   macro avg       0.81      0.81      0.81      7933\n",
      "weighted avg       0.81      0.81      0.81      7933\n",
      "\n",
      "test \n",
      "               precision    recall  f1-score   support\n",
      "\n",
      "           0       0.79      0.83      0.81      1356\n",
      "           1       0.81      0.77      0.79      1289\n",
      "\n",
      "    accuracy                           0.80      2645\n",
      "   macro avg       0.80      0.80      0.80      2645\n",
      "weighted avg       0.80      0.80      0.80      2645\n",
      "\n"
     ]
    }
   ],
   "source": [
    "print('train \\n', classification_report(y_train,y_pred_train))\n",
    "print('test \\n',classification_report(y_test,y_pred_test))"
   ]
  },
  {
   "cell_type": "markdown",
   "id": "78718aa5",
   "metadata": {},
   "source": [
    "Setelah mengubah max_depth menjadi 5, diperoleh hasil precision, recall dan f1-score pada Y (0 dan 1) > 70%. Datanya juga seimbang (tidak ada yang rentangnya sangat rendah atau sangat tinggi). Diperoleh hasil akurasi pada train set sebesar 78%, dan pada test set sebesar 77%."
   ]
  },
  {
   "cell_type": "code",
   "execution_count": 87,
   "id": "41596488",
   "metadata": {},
   "outputs": [
    {
     "data": {
      "image/png": "[encoded data removed]",
      "text/plain": [
       "<IPython.core.display.Image object>"
      ]
     },
     "execution_count": 87,
     "metadata": {},
     "output_type": "execute_result"
    }
   ],
   "source": [
    "#Ilustrasi setelah max_depth diubah jadi 5\n",
    "dot_data = StringIO()\n",
    "\n",
    "tree.export_graphviz(dtc2, out_file=dot_data,\n",
    "                     class_names=['0','1'], # nama target\n",
    "                     feature_names=feature_col_names,\n",
    "                     filled=True,\n",
    "                     rounded=True,\n",
    "                     special_characters=True)\n",
    "graph  = pydotplus.graph_from_dot_data(dot_data.getvalue())\n",
    "\n",
    "Image(graph.create_png())"
   ]
  },
  {
   "cell_type": "markdown",
   "id": "bfdd4f34",
   "metadata": {},
   "source": [
    "Dapat dilihat hasilnya seperti gambar diatas. Sangat jauh berbeda dari decision yang awal, yang ini jauh lebih simple dan bisa dibaca dengan baik."
   ]
  },
  {
   "cell_type": "markdown",
   "id": "ddcfec07",
   "metadata": {},
   "source": [
    "## Model 5 : Random Forest\n",
    "Random Forest adalah kombinasi dari  masing-masing tree yang baik kemudian dikombinasikan  ke dalam satu model. Random Forest bergantung pada sebuah nilai vector random dengan distribusi yang sama pada semua pohon yang masing masing Decision Tree memiliki kedalaman yang maksimal. "
   ]
  },
  {
   "cell_type": "code",
   "execution_count": 62,
   "id": "a736dc71",
   "metadata": {},
   "outputs": [],
   "source": [
    "#Data split\n",
    "from sklearn.model_selection import train_test_split\n",
    "feature_col_names = ['age', 'job', 'marital', 'education', 'balance', 'day', 'month', 'duration', 'campaign', 'pdays', 'poutcome']\n",
    "predicted_class_names = ['Client_Subscribed']\n",
    "\n",
    "x = df_undersampling[feature_col_names].values\n",
    "y = df_undersampling[predicted_class_names].values\n",
    "split_test_size = 0.25\n",
    "\n",
    "x_train, x_test, y_train, y_test = train_test_split(x, y, test_size=split_test_size, random_state=1)"
   ]
  },
  {
   "cell_type": "code",
   "execution_count": 63,
   "id": "1a775cfd",
   "metadata": {},
   "outputs": [
    {
     "name": "stdout",
     "output_type": "stream",
     "text": [
      "75.00% ada pada training set\n",
      "25.00% ada pada test set\n"
     ]
    }
   ],
   "source": [
    "print(\"{0:0.2f}% ada pada training set\". format((len(x_train)/len(df_undersampling.index)) * 100))\n",
    "print(\"{0:0.2f}% ada pada test set\". format((len(x_test)/len(df_undersampling.index)) * 100))"
   ]
  },
  {
   "cell_type": "code",
   "execution_count": 64,
   "id": "1d1ac569",
   "metadata": {},
   "outputs": [
    {
     "data": {
      "text/plain": [
       "RandomForestClassifier()"
      ]
     },
     "execution_count": 64,
     "metadata": {},
     "output_type": "execute_result"
    }
   ],
   "source": [
    "#model training\n",
    "RFC_model = RandomForestClassifier(n_estimators=100)\n",
    "RFC_model.fit(x_train, y_train.ravel())"
   ]
  },
  {
   "cell_type": "code",
   "execution_count": 65,
   "id": "9a0b02d7",
   "metadata": {},
   "outputs": [
    {
     "name": "stdout",
     "output_type": "stream",
     "text": [
      "Accuracy: 1.0000\n"
     ]
    }
   ],
   "source": [
    "#Mengevaluasi model\n",
    "RFC_predict_train = RFC_model.predict(x_train)\n",
    "\n",
    "from sklearn import metrics\n",
    "print(\"Accuracy: {0:.4f}\".format(metrics.accuracy_score(y_train, RFC_predict_train)))"
   ]
  },
  {
   "cell_type": "code",
   "execution_count": 66,
   "id": "15479521",
   "metadata": {},
   "outputs": [
    {
     "name": "stdout",
     "output_type": "stream",
     "text": [
      "lr_predict_test [0 1 0 ... 1 0 0]\n",
      "y_test [[0]\n",
      " [0]\n",
      " [0]\n",
      " ...\n",
      " [1]\n",
      " [0]\n",
      " [0]]\n",
      "Accuracy: 0.8499\n"
     ]
    }
   ],
   "source": [
    "RFC_predict_test = RFC_model.predict(x_test)\n",
    "from sklearn import metrics\n",
    "\n",
    "print(\"lr_predict_test\", RFC_predict_test)\n",
    "print(\"y_test\", y_test)\n",
    "print(\"Accuracy: {0:.4f}\".format(metrics.accuracy_score(y_test, RFC_predict_test)))"
   ]
  },
  {
   "cell_type": "code",
   "execution_count": 67,
   "id": "a457454e",
   "metadata": {},
   "outputs": [
    {
     "name": "stdout",
     "output_type": "stream",
     "text": [
      "Confusion Matrix\n",
      "[[1145  211]\n",
      " [ 186 1103]]\n",
      " \n",
      "Classification Report\n",
      "              precision    recall  f1-score   support\n",
      "\n",
      "           0       0.86      0.84      0.85      1356\n",
      "           1       0.84      0.86      0.85      1289\n",
      "\n",
      "    accuracy                           0.85      2645\n",
      "   macro avg       0.85      0.85      0.85      2645\n",
      "weighted avg       0.85      0.85      0.85      2645\n",
      "\n"
     ]
    }
   ],
   "source": [
    "#confusion matrix\n",
    "print(\"Confusion Matrix\")\n",
    "print(\"{0}\".format(metrics.confusion_matrix(y_test, RFC_predict_test)))\n",
    "print(\" \")\n",
    "print(\"Classification Report\")\n",
    "print(metrics.classification_report(y_test, RFC_predict_test))"
   ]
  },
  {
   "cell_type": "markdown",
   "id": "dc78eca0",
   "metadata": {},
   "source": [
    "**Kesimpulan** <br>\n",
    "Dapat dilihat bahwa hasil precision, recall dan f1-score pada Y (0 dan 1) > 80%. Datanya juga seimbang (tidak ada yang rentangnya sangat rendah atau sangat tinggi, berkisar antara 84% - 86%). Diperoleh hasil akurasi sebesar 85%."
   ]
  },
  {
   "cell_type": "markdown",
   "id": "65d89f6a",
   "metadata": {},
   "source": [
    "## Model 6 : Naïve Bayes\n",
    "Naïve Bayes merupakan algoritma Machine Learning untuk klasifikasi dengan efisiensi komputasi dan akurasi yang baik, khususnya untuk dimensi dan jumlah data yang besar. Akan tetapi performa algoritma ini akan menurun jika antar atribut tidak memiliki keterkaitan satu sama lain. "
   ]
  },
  {
   "cell_type": "code",
   "execution_count": 68,
   "id": "200c586d",
   "metadata": {},
   "outputs": [],
   "source": [
    "#Data split\n",
    "from sklearn.model_selection import train_test_split\n",
    "feature_col_names = ['age', 'job', 'marital', 'education', 'balance', 'day', 'month', 'duration', 'campaign', 'pdays', 'poutcome']\n",
    "predicted_class_names = ['Client_Subscribed']\n",
    "\n",
    "x = df_undersampling[feature_col_names].values\n",
    "y = df_undersampling[predicted_class_names].values\n",
    "split_test_size = 0.25\n",
    "\n",
    "x_train, x_test, y_train, y_test = train_test_split(x, y, test_size=split_test_size, random_state=1)"
   ]
  },
  {
   "cell_type": "code",
   "execution_count": 69,
   "id": "f44a05a0",
   "metadata": {},
   "outputs": [
    {
     "name": "stdout",
     "output_type": "stream",
     "text": [
      "75.00% ada pada training set\n",
      "25.00% ada pada test set\n"
     ]
    }
   ],
   "source": [
    "print(\"{0:0.2f}% ada pada training set\". format((len(x_train)/len(df_undersampling.index)) * 100))\n",
    "print(\"{0:0.2f}% ada pada test set\". format((len(x_test)/len(df_undersampling.index)) * 100))"
   ]
  },
  {
   "cell_type": "code",
   "execution_count": 70,
   "id": "0b3b8fa2",
   "metadata": {},
   "outputs": [
    {
     "data": {
      "text/plain": [
       "GaussianNB()"
      ]
     },
     "execution_count": 70,
     "metadata": {},
     "output_type": "execute_result"
    }
   ],
   "source": [
    "#model training\n",
    "NB_model = GaussianNB()\n",
    "NB_model.fit(x_train, y_train.ravel())"
   ]
  },
  {
   "cell_type": "code",
   "execution_count": 71,
   "id": "f84b0446",
   "metadata": {},
   "outputs": [
    {
     "name": "stdout",
     "output_type": "stream",
     "text": [
      "Accuracy: 0.7110\n"
     ]
    }
   ],
   "source": [
    "#Mengevaluasi model\n",
    "NB_predict_train = NB_model.predict(x_train)\n",
    "\n",
    "from sklearn import metrics\n",
    "print(\"Accuracy: {0:.4f}\".format(metrics.accuracy_score(y_train, NB_predict_train)))"
   ]
  },
  {
   "cell_type": "code",
   "execution_count": 72,
   "id": "72bf415e",
   "metadata": {},
   "outputs": [
    {
     "name": "stdout",
     "output_type": "stream",
     "text": [
      "lr_predict_test [0 1 0 ... 0 1 1]\n",
      "y_test [[0]\n",
      " [0]\n",
      " [0]\n",
      " ...\n",
      " [1]\n",
      " [0]\n",
      " [0]]\n",
      "Accuracy: 0.7172\n"
     ]
    }
   ],
   "source": [
    "NB_predict_test = NB_model.predict(x_test)\n",
    "from sklearn import metrics\n",
    "\n",
    "print(\"lr_predict_test\", NB_predict_test)\n",
    "print(\"y_test\", y_test)\n",
    "print(\"Accuracy: {0:.4f}\".format(metrics.accuracy_score(y_test, NB_predict_test)))"
   ]
  },
  {
   "cell_type": "code",
   "execution_count": 73,
   "id": "8028fac9",
   "metadata": {},
   "outputs": [
    {
     "name": "stdout",
     "output_type": "stream",
     "text": [
      "Confusion Matrix\n",
      "[[1106  250]\n",
      " [ 498  791]]\n",
      " \n",
      "Classification Report\n",
      "              precision    recall  f1-score   support\n",
      "\n",
      "           0       0.69      0.82      0.75      1356\n",
      "           1       0.76      0.61      0.68      1289\n",
      "\n",
      "    accuracy                           0.72      2645\n",
      "   macro avg       0.72      0.71      0.71      2645\n",
      "weighted avg       0.72      0.72      0.71      2645\n",
      "\n"
     ]
    }
   ],
   "source": [
    "#confusion matrix\n",
    "print(\"Confusion Matrix\")\n",
    "print(\"{0}\".format(metrics.confusion_matrix(y_test, NB_predict_test)))\n",
    "print(\" \")\n",
    "print(\"Classification Report\")\n",
    "print(metrics.classification_report(y_test, NB_predict_test))"
   ]
  },
  {
   "cell_type": "markdown",
   "id": "bd1fef70",
   "metadata": {},
   "source": [
    "**Kesimpulan** <br>\n",
    "Dapat dilihat bahwa hasil precision, recall dan f1-score pada Y (0 dan 1) > 60%. Datanya juga seimbang (tidak ada yang rentangnya sangat rendah atau sangat tinggi, berkisar antara 61% - 82%). Diperoleh hasil akurasi sebesar 72%."
   ]
  },
  {
   "cell_type": "markdown",
   "id": "83b10b2d",
   "metadata": {},
   "source": [
    "## Model 7 : Confusion Matrix\n",
    "Confusion Matrix adalah pengukuran performa untuk masalah klasifikasi machine learning dimana keluaran dapat berupa dua kelas atau lebih. Confusion Matrix berupa tabel dengan 4 kombinasi berbeda dari nilai prediksi dan nilai aktual."
   ]
  },
  {
   "cell_type": "code",
   "execution_count": 74,
   "id": "146abe90",
   "metadata": {},
   "outputs": [
    {
     "data": {
      "image/png": "[encoded data removed]",
      "text/plain": [
       "<Figure size 400x400 with 1 Axes>"
      ]
     },
     "metadata": {},
     "output_type": "display_data"
    }
   ],
   "source": [
    "#Logistic regression\n",
    "confMLR = confusion_matrix(y_test, lr_predict_test)\n",
    "\n",
    "fig,ax = plt.subplots(figsize=(4,4))\n",
    "plt.title(\"Logistic regression Confusion Matrix\")\n",
    "ax.imshow(confMLR)\n",
    "ax.grid(False)\n",
    "ax.xaxis.set(ticks=(0,1),ticklabels = ('Predicted 0s','Predicted 1s'))\n",
    "ax.yaxis.set(ticks=(0,1),ticklabels = ('Actual 0s','Actual 1s'))\n",
    "ax.set_ylim(1.5,-0.5)\n",
    "for i in range(2):\n",
    "    for j in range(2):\n",
    "        ax.text(j,i,confMLR[i,j],ha='center',va='center',color='white')\n",
    "plt.show()"
   ]
  },
  {
   "cell_type": "code",
   "execution_count": 75,
   "id": "bf2c95dc",
   "metadata": {},
   "outputs": [
    {
     "data": {
      "image/png": "[encoded data removed]",
      "text/plain": [
       "<Figure size 400x400 with 1 Axes>"
      ]
     },
     "metadata": {},
     "output_type": "display_data"
    }
   ],
   "source": [
    "#KNN \n",
    "confMLR = confusion_matrix(y_test, KNN_predict_test)\n",
    "\n",
    "fig,ax = plt.subplots(figsize=(4,4))\n",
    "plt.title(\"K-Nearest Neighbour Confusion Matrix\")\n",
    "ax.imshow(confMLR)\n",
    "ax.grid(False)\n",
    "ax.xaxis.set(ticks=(0,1),ticklabels = ('Predicted 0s','Predicted 1s'))\n",
    "ax.yaxis.set(ticks=(0,1),ticklabels = ('Actual 0s','Actual 1s'))\n",
    "ax.set_ylim(1.5,-0.5)\n",
    "for i in range(2):\n",
    "    for j in range(2):\n",
    "        ax.text(j,i,confMLR[i,j],ha='center',va='center',color='white')\n",
    "plt.show()"
   ]
  },
  {
   "cell_type": "code",
   "execution_count": 59,
   "id": "34005cf0",
   "metadata": {},
   "outputs": [
    {
     "data": {
      "image/png": "[encoded data removed]",
      "text/plain": [
       "<Figure size 400x400 with 1 Axes>"
      ]
     },
     "metadata": {},
     "output_type": "display_data"
    }
   ],
   "source": [
    "#SVM\n",
    "confMLR = confusion_matrix(y_test, SVM_predict_test)\n",
    "\n",
    "fig,ax = plt.subplots(figsize=(4,4))\n",
    "plt.title(\"Support Vector Machine Confusion Matrix\")\n",
    "ax.imshow(confMLR)\n",
    "ax.grid(False)\n",
    "ax.xaxis.set(ticks=(0,1),ticklabels = ('Predicted 0s','Predicted 1s'))\n",
    "ax.yaxis.set(ticks=(0,1),ticklabels = ('Actual 0s','Actual 1s'))\n",
    "ax.set_ylim(1.5,-0.5)\n",
    "for i in range(2):\n",
    "    for j in range(2):\n",
    "        ax.text(j,i,confMLR[i,j],ha='center',va='center',color='white')\n",
    "plt.show()"
   ]
  },
  {
   "cell_type": "code",
   "execution_count": 60,
   "id": "65ce274f",
   "metadata": {},
   "outputs": [
    {
     "data": {
      "image/png": "[encoded data removed]",
      "text/plain": [
       "<Figure size 400x400 with 1 Axes>"
      ]
     },
     "metadata": {},
     "output_type": "display_data"
    }
   ],
   "source": [
    "#Decision Tree\n",
    "confMLR = confusion_matrix(y_test, destree_predict_test)\n",
    "\n",
    "fig,ax = plt.subplots(figsize=(4,4))\n",
    "plt.title(\"Decision Tree Confusion Matrix\")\n",
    "ax.imshow(confMLR)\n",
    "ax.grid(False)\n",
    "ax.xaxis.set(ticks=(0,1),ticklabels = ('Predicted 0s','Predicted 1s'))\n",
    "ax.yaxis.set(ticks=(0,1),ticklabels = ('Actual 0s','Actual 1s'))\n",
    "ax.set_ylim(1.5,-0.5)\n",
    "for i in range(2):\n",
    "    for j in range(2):\n",
    "        ax.text(j,i,confMLR[i,j],ha='center',va='center',color='white')\n",
    "plt.show()"
   ]
  },
  {
   "cell_type": "code",
   "execution_count": 62,
   "id": "dc2a6e59",
   "metadata": {},
   "outputs": [
    {
     "ename": "NameError",
     "evalue": "name 'RFC_predict_test' is not defined",
     "output_type": "error",
     "traceback": [
      "\u001b[1;31m---------------------------------------------------------------------------\u001b[0m",
      "\u001b[1;31mNameError\u001b[0m                                 Traceback (most recent call last)",
      "Cell \u001b[1;32mIn[62], line 2\u001b[0m\n\u001b[0;32m      1\u001b[0m \u001b[39m#Random forest\u001b[39;00m\n\u001b[1;32m----> 2\u001b[0m confMLR \u001b[39m=\u001b[39m confusion_matrix(y_test, RFC_predict_test)\n\u001b[0;32m      4\u001b[0m fig,ax \u001b[39m=\u001b[39m plt\u001b[39m.\u001b[39msubplots(figsize\u001b[39m=\u001b[39m(\u001b[39m4\u001b[39m,\u001b[39m4\u001b[39m))\n\u001b[0;32m      5\u001b[0m plt\u001b[39m.\u001b[39mtitle(\u001b[39m\"\u001b[39m\u001b[39mRandom Forest Confusion Matrix\u001b[39m\u001b[39m\"\u001b[39m)\n",
      "\u001b[1;31mNameError\u001b[0m: name 'RFC_predict_test' is not defined"
     ]
    }
   ],
   "source": [
    "#Random forest\n",
    "confMLR = confusion_matrix(y_test, RFC_predict_test)\n",
    "\n",
    "fig,ax = plt.subplots(figsize=(4,4))\n",
    "plt.title(\"Random Forest Confusion Matrix\")\n",
    "ax.imshow(confMLR)\n",
    "ax.grid(False)\n",
    "ax.xaxis.set(ticks=(0,1),ticklabels = ('Predicted 0s','Predicted 1s'))\n",
    "ax.yaxis.set(ticks=(0,1),ticklabels = ('Actual 0s','Actual 1s'))\n",
    "ax.set_ylim(1.5,-0.5)\n",
    "for i in range(2):\n",
    "    for j in range(2):\n",
    "        ax.text(j,i,confMLR[i,j],ha='center',va='center',color='white')\n",
    "plt.show()"
   ]
  },
  {
   "cell_type": "code",
   "execution_count": 83,
   "id": "39d73683",
   "metadata": {
    "scrolled": true
   },
   "outputs": [
    {
     "data": {
      "image/png": "[encoded data removed]",
      "text/plain": [
       "<Figure size 400x400 with 1 Axes>"
      ]
     },
     "metadata": {},
     "output_type": "display_data"
    }
   ],
   "source": [
    "# Naive Bayes\n",
    "confMLR = confusion_matrix(y_test, NB_predict_test)\n",
    "\n",
    "fig,ax = plt.subplots(figsize=(4,4))\n",
    "plt.title(\"Naive Bayes Confusion Matrix\")\n",
    "ax.imshow(confMLR)\n",
    "ax.grid(False)\n",
    "ax.xaxis.set(ticks=(0,1),ticklabels = ('Predicted 0s','Predicted 1s'))\n",
    "ax.yaxis.set(ticks=(0,1),ticklabels = ('Actual 0s','Actual 1s'))\n",
    "ax.set_ylim(1.5,-0.5)\n",
    "for i in range(2):\n",
    "    for j in range(2):\n",
    "        ax.text(j,i,confMLR[i,j],ha='center',va='center',color='white')\n",
    "plt.show()"
   ]
  },
  {
   "cell_type": "markdown",
   "id": "7200ff0a",
   "metadata": {},
   "source": [
    "**Kesimpulan keseluruhan**\n",
    "- Data yang digunakan adalah data bank-full \n",
    "- Variabel X : age, job, marital, education, balance, day, month, duration, campaign, pdays, poutcome \n",
    "- Variabel Y :  Client_Subscribed\n",
    "- Melalui proses undersampling karena jumlah variabel Y yang tidak balance\n",
    "- Memodelkan machine learning\n",
    "\n",
    "1. Logistic Regression<br>\n",
    "   Akurasi sebesar 74% <br>\n",
    "   \n",
    "   \n",
    "2. K-Nearest Neighbour<br>\n",
    "   Akurasi sebesar 74%<br>\n",
    "   \n",
    "   \n",
    "3. Support Vector Machine<br>\n",
    "   Akurasi sebesar ..%<br>\n",
    "   \n",
    "   \n",
    "4. Decision Tree <br>\n",
    "   Akurasi sebesar 78% <br>\n",
    "   \n",
    "   \n",
    "5. Random Forest <br>\n",
    "   Akurasi sebesar 85% <br>\n",
    "   \n",
    "   \n",
    "6. Naïve Bayes<br>\n",
    "   Akurasi sebesar 72%\n",
    "   \n",
    "Dari ke-6 model machine learning yang telah dibuat, diperoleh hasil bahwa model Random Forest memiliki akurasi paling tinggi yaitu 85%. "
   ]
  },
  {
   "cell_type": "code",
   "execution_count": null,
   "id": "34e87393",
   "metadata": {},
   "outputs": [],
   "source": []
  }
 ],
 "metadata": {
  "kernelspec": {
   "display_name": "Python 3 (ipykernel)",
   "language": "python",
   "name": "python3"
  },
  "language_info": {
   "codemirror_mode": {
    "name": "ipython",
    "version": 3
   },
   "file_extension": ".py",
   "mimetype": "text/x-python",
   "name": "python",
   "nbconvert_exporter": "python",
   "pygments_lexer": "ipython3",
   "version": "3.10.11"
  }
 },
 "nbformat": 4,
 "nbformat_minor": 5
}
